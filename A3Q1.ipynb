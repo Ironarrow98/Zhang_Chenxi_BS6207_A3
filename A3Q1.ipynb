{
  "nbformat": 4,
  "nbformat_minor": 0,
  "metadata": {
    "colab": {
      "name": "A3Q1.ipynb",
      "provenance": [],
      "collapsed_sections": [
        "uSfx94bXjTtw",
        "jdV8xHdpj3Hv",
        "5nXFpelPj7st",
        "d8ROQXJMk0_f",
        "1P_nzGFP7-Ly",
        "I75tcgzJ7-L6",
        "VcfBBt3u7-L8",
        "Y_px1p8D_CnX",
        "7v3s-lmU_Cne",
        "Qwf3fU2Z_Cne",
        "gXbTq2lP_Cnf",
        "RyZZvNDsIE9X",
        "FHkUJhMSIE9d",
        "JA0cDdVEIE9e",
        "SlFhBMXCIE9e",
        "DNCZJu_erirL",
        "yhmGB37prirQ",
        "ZryUaBtRrirQ",
        "uEWl5yWbrirQ",
        "9ZG3hu4b92XD",
        "6IYYmDtj92XI",
        "XI7JS1aN92XI",
        "eMoaAQFc92XJ",
        "2yzhYBVHVhGq",
        "-Tg56-FIWIB6",
        "VS87BejlWIB_",
        "31UaZCkQWICA",
        "gXMYcdOQWICA",
        "vBI8Rht7f3P6",
        "pXflSXhWf3P_",
        "wK4TiAztf3P_",
        "pF5Bnay-f3P_",
        "zbsrQYJMhIbF",
        "VnUH0cuWhIbN",
        "0_6mG_tAjvV7",
        "vG8eL2BUjvV_",
        "59rpYKIRjvWA",
        "tt6spV5ejvWA"
      ]
    },
    "kernelspec": {
      "name": "python3",
      "display_name": "Python 3"
    },
    "language_info": {
      "name": "python"
    }
  },
  "cells": [
    {
      "cell_type": "code",
      "execution_count": null,
      "metadata": {
        "id": "qyItnl2Th4Yn"
      },
      "outputs": [],
      "source": [
        "import math\n",
        "import random\n",
        "import numpy as np\n",
        "import matplotlib.pyplot as plt\n",
        "import torch\n",
        "import torch.nn as nn\n",
        "import torchvision"
      ]
    },
    {
      "cell_type": "code",
      "source": [
        "X = torch.randn(1, 3, 32, 32)\n",
        "\n",
        "img = X[0]\n",
        "img = img.numpy()\n",
        "img = np.transpose(img, (1, 2, 0))\n",
        "plt.imshow((img * 255).astype(np.uint8))\n",
        "plt.show()"
      ],
      "metadata": {
        "colab": {
          "base_uri": "https://localhost:8080/",
          "height": 266
        },
        "id": "SAA3vKkviv7h",
        "outputId": "f00db93f-665f-4ba4-8ccb-205d258efd1a"
      },
      "execution_count": null,
      "outputs": [
        {
          "output_type": "display_data",
          "data": {
            "image/png": "[encoded data removed]",
            "text/plain": [
              "<Figure size 432x288 with 1 Axes>"
            ]
          },
          "metadata": {
            "needs_background": "light"
          }
        }
      ]
    },
    {
      "cell_type": "code",
      "source": [
        "y = torch.randint(3, (1, 32, 32), dtype = torch.int64)\n",
        "y"
      ],
      "metadata": {
        "colab": {
          "base_uri": "https://localhost:8080/"
        },
        "id": "dKOkQTRRiyQk",
        "outputId": "de67c9b9-906e-415a-bfba-3a932412d3a1"
      },
      "execution_count": null,
      "outputs": [
        {
          "output_type": "execute_result",
          "data": {
            "text/plain": [
              "tensor([[[0, 0, 1,  ..., 0, 2, 1],\n",
              "         [0, 2, 2,  ..., 0, 0, 0],\n",
              "         [0, 2, 0,  ..., 0, 1, 0],\n",
              "         ...,\n",
              "         [2, 1, 2,  ..., 1, 0, 0],\n",
              "         [0, 2, 0,  ..., 2, 2, 0],\n",
              "         [1, 2, 2,  ..., 2, 2, 0]]])"
            ]
          },
          "metadata": {},
          "execution_count": 45
        }
      ]
    },
    {
      "cell_type": "markdown",
      "source": [
        "# MaxPool2D"
      ],
      "metadata": {
        "id": "uSfx94bXjTtw"
      }
    },
    {
      "cell_type": "markdown",
      "source": [
        "## Official MaxPool2D"
      ],
      "metadata": {
        "id": "jdV8xHdpj3Hv"
      }
    },
    {
      "cell_type": "code",
      "source": [
        "maxpool2d = torch.nn.MaxPool2d(kernel_size = 2, stride = 1, padding = 0, dilation = 1, return_indices = False, ceil_mode = False)\n",
        "torch_out = maxpool2d(X)\n",
        "img = torch_out[0]\n",
        "img = img.numpy()\n",
        "img = np.transpose(img, (1, 2, 0))\n",
        "plt.imshow((img * 255).astype(np.uint8))\n",
        "plt.show()"
      ],
      "metadata": {
        "colab": {
          "base_uri": "https://localhost:8080/"
        },
        "id": "u3t_9mDPjYTt",
        "outputId": "ec831e3e-479d-4cc9-cbe3-e05f8b1ccebb"
      },
      "execution_count": null,
      "outputs": [
        {
          "output_type": "display_data",
          "data": {
            "image/png": "[encoded data removed]",
            "text/plain": [
              "<Figure size 432x288 with 1 Axes>"
            ]
          },
          "metadata": {
            "needs_background": "light"
          }
        }
      ]
    },
    {
      "cell_type": "markdown",
      "source": [
        "## My MaxPool2D"
      ],
      "metadata": {
        "id": "5nXFpelPj7st"
      }
    },
    {
      "cell_type": "code",
      "source": [
        "class MyMaxPool2D(nn.Module):\n",
        "  def __init__(self, kernel_size, stride):\n",
        "    super(MyMaxPool2D, self).__init__()\n",
        "    self.stride = stride\n",
        "    self.kernel_size = kernel_size\n",
        "    self.kernel_height = kernel_size[0]\n",
        "    self.kernel_width = kernel_size[1]\n",
        "\n",
        "  def forward(self, x):\n",
        "    x_batch = x.size(0)\n",
        "    x_channel = x.size(1)\n",
        "    x_height = x.size(2)\n",
        "    x_width = x.size(3)\n",
        "\n",
        "    y_height = int((x_height - self.kernel_height) / self.stride) + 1\n",
        "    y_width = int((x_width - self.kernel_width) / self.stride) + 1\n",
        "    y = torch.zeros((x_batch, x_channel, y_height, y_width))\n",
        "    \n",
        "    for i in range(x_batch):\n",
        "      for j in range(x_channel):\n",
        "        for k in range(y_height):\n",
        "          for l in range(y_width):\n",
        "            start_k = k * self.stride\n",
        "            start_l = l * self.stride\n",
        "            end_k = start_k + self.kernel_height\n",
        "            end_l = start_l + self.kernel_width\n",
        "            y[i, j, k, l] = torch.max(x[i, j, start_k:end_k, start_l:end_l])\n",
        "    \n",
        "    return y\n",
        "\n",
        "mymaxpool2d = MyMaxPool2D(kernel_size = (2, 2), stride = 1)\n",
        "my_out = mymaxpool2d(X)\n",
        "img = my_out[0]\n",
        "img = img.numpy()\n",
        "img = np.transpose(img, (1, 2, 0))\n",
        "plt.imshow((img * 255).astype(np.uint8))\n",
        "plt.show()"
      ],
      "metadata": {
        "colab": {
          "base_uri": "https://localhost:8080/"
        },
        "id": "KEe5C8g8jZ1b",
        "outputId": "6a902ed0-1f69-4db9-c39d-7f58cd9a4540"
      },
      "execution_count": null,
      "outputs": [
        {
          "output_type": "display_data",
          "data": {
            "image/png": "[encoded data removed]",
            "text/plain": [
              "<Figure size 432x288 with 1 Axes>"
            ]
          },
          "metadata": {
            "needs_background": "light"
          }
        }
      ]
    },
    {
      "cell_type": "markdown",
      "source": [
        "## Comparision"
      ],
      "metadata": {
        "id": "d8ROQXJMk0_f"
      }
    },
    {
      "cell_type": "code",
      "source": [
        "print(torch.all(torch.abs(my_out - torch_out) <= 1e-6))"
      ],
      "metadata": {
        "colab": {
          "base_uri": "https://localhost:8080/"
        },
        "id": "FjzfX-zbk0fU",
        "outputId": "dba44b06-43f1-4993-ed78-0e428ce4baa1"
      },
      "execution_count": null,
      "outputs": [
        {
          "output_type": "stream",
          "name": "stdout",
          "text": [
            "tensor(True)\n"
          ]
        }
      ]
    },
    {
      "cell_type": "markdown",
      "source": [
        "# AveragePool2D"
      ],
      "metadata": {
        "id": "1P_nzGFP7-Ly"
      }
    },
    {
      "cell_type": "markdown",
      "source": [
        "## Official AveragePool2D"
      ],
      "metadata": {
        "id": "I75tcgzJ7-L6"
      }
    },
    {
      "cell_type": "code",
      "source": [
        "avgpool2d = torch.nn.AvgPool2d(kernel_size = 2, stride = 1, \n",
        "                               padding = 0, ceil_mode = False, \n",
        "                               count_include_pad = True,  \n",
        "                               divisor_override = None)\n",
        "torch_out = avgpool2d(X)\n",
        "img = torch_out[0]\n",
        "img = img.numpy()\n",
        "img = np.transpose(img, (1, 2, 0))\n",
        "plt.imshow((img * 255).astype(np.uint8))\n",
        "plt.show()"
      ],
      "metadata": {
        "colab": {
          "base_uri": "https://localhost:8080/"
        },
        "outputId": "79352f3d-697b-4e0d-d802-2ab84de98d76",
        "id": "V9fEar_x7-L6"
      },
      "execution_count": null,
      "outputs": [
        {
          "output_type": "display_data",
          "data": {
            "image/png": "[encoded data removed]",
            "text/plain": [
              "<Figure size 432x288 with 1 Axes>"
            ]
          },
          "metadata": {
            "needs_background": "light"
          }
        }
      ]
    },
    {
      "cell_type": "markdown",
      "source": [
        "## My AveragePool2D"
      ],
      "metadata": {
        "id": "Ha-bBz8I7-L7"
      }
    },
    {
      "cell_type": "code",
      "source": [
        "class MyAveragePool2D(nn.Module):\n",
        "  def __init__(self, kernel_size, stride):\n",
        "    super(MyAveragePool2D, self).__init__()\n",
        "    self.stride = stride\n",
        "    self.kernel_size = kernel_size\n",
        "    self.kernel_height = kernel_size[0]\n",
        "    self.kernel_width = kernel_size[1]\n",
        "\n",
        "  def forward(self, x):\n",
        "    x_batch = x.size(0)\n",
        "    x_channel = x.size(1)\n",
        "    x_height = x.size(2)\n",
        "    x_width = x.size(3)\n",
        "\n",
        "    y_height = int((x_height - self.kernel_height) / self.stride) + 1\n",
        "    y_width = int((x_width - self.kernel_width) / self.stride) + 1\n",
        "    y = torch.zeros((x_batch, x_channel, y_height, y_width))\n",
        "    \n",
        "    for i in range(x_batch):\n",
        "      for j in range(x_channel):\n",
        "        for k in range(y_height):\n",
        "          for l in range(y_width):\n",
        "            start_k = k * self.stride\n",
        "            start_l = l * self.stride\n",
        "            end_k = start_k + self.kernel_height\n",
        "            end_l = start_l + self.kernel_width\n",
        "            y[i, j, k, l] = x[i, j, start_k:end_k, start_l:end_l].mean()\n",
        "    \n",
        "    return y\n",
        "\n",
        "myavgpool2d = MyAveragePool2D(kernel_size = (2, 2), stride = 1)\n",
        "my_out = myavgpool2d(X)\n",
        "img = my_out[0]\n",
        "img = img.numpy()\n",
        "img = np.transpose(img, (1, 2, 0))\n",
        "plt.imshow((img * 255).astype(np.uint8))\n",
        "plt.show()"
      ],
      "metadata": {
        "colab": {
          "base_uri": "https://localhost:8080/"
        },
        "outputId": "e8302a10-0a2f-4500-a112-9f6742cf77b2",
        "id": "t1oaP4OU7-L7"
      },
      "execution_count": null,
      "outputs": [
        {
          "output_type": "display_data",
          "data": {
            "image/png": "[encoded data removed]",
            "text/plain": [
              "<Figure size 432x288 with 1 Axes>"
            ]
          },
          "metadata": {
            "needs_background": "light"
          }
        }
      ]
    },
    {
      "cell_type": "markdown",
      "source": [
        "## Comparision"
      ],
      "metadata": {
        "id": "VcfBBt3u7-L8"
      }
    },
    {
      "cell_type": "code",
      "source": [
        "print(torch.all(torch.abs(my_out - torch_out) <= 1e-6))"
      ],
      "metadata": {
        "colab": {
          "base_uri": "https://localhost:8080/"
        },
        "outputId": "685aa72e-27d6-4a27-e8a4-2458074f06af",
        "id": "qrqHE7Rd7-L8"
      },
      "execution_count": null,
      "outputs": [
        {
          "output_type": "stream",
          "name": "stdout",
          "text": [
            "tensor(True)\n"
          ]
        }
      ]
    },
    {
      "cell_type": "markdown",
      "source": [
        "# Conv2D I"
      ],
      "metadata": {
        "id": "Y_px1p8D_CnX"
      }
    },
    {
      "cell_type": "markdown",
      "source": [
        "## Official Conv2D"
      ],
      "metadata": {
        "id": "7v3s-lmU_Cne"
      }
    },
    {
      "cell_type": "code",
      "source": [
        "conv2d = torch.nn.Conv2d(in_channels=3, out_channels=6, \n",
        "                         kernel_size=3, stride=1, \n",
        "                         padding=0, dilation=1, \n",
        "                         groups=1, bias=True, \n",
        "                         padding_mode='zeros')\n",
        "torch_out = conv2d(X)\n",
        "torch_kernel = conv2d.weight.data\n",
        "torch_bias = conv2d.bias.data\n",
        "print(torch_out)"
      ],
      "metadata": {
        "colab": {
          "base_uri": "https://localhost:8080/"
        },
        "outputId": "56eeaa5c-55bf-4da4-9e2f-50c2df2ed43b",
        "id": "ccbK2Jed_Cne"
      },
      "execution_count": null,
      "outputs": [
        {
          "output_type": "stream",
          "name": "stdout",
          "text": [
            "tensor([[[[ 6.4541e-01, -4.9002e-02, -8.2768e-01,  ...,  5.3109e-01,\n",
            "            9.8171e-01,  7.2008e-01],\n",
            "          [-2.2148e-01,  9.1171e-02,  3.8695e-01,  ...,  7.0360e-01,\n",
            "            5.2570e-01,  6.2671e-01],\n",
            "          [ 2.7258e-02,  2.3801e-01,  5.0505e-01,  ..., -7.0291e-01,\n",
            "            5.3436e-01, -8.5201e-01],\n",
            "          ...,\n",
            "          [-4.4795e-01, -2.6910e-02,  1.5481e+00,  ...,  1.9305e-01,\n",
            "            1.2381e+00,  4.4610e-02],\n",
            "          [ 2.2510e-01,  2.6381e-01, -1.7242e+00,  ..., -8.7501e-01,\n",
            "            3.1584e-01, -4.4386e-02],\n",
            "          [ 1.3277e-01, -1.8953e-02,  1.6660e+00,  ...,  8.1455e-01,\n",
            "            3.9618e-01,  3.8421e-01]],\n",
            "\n",
            "         [[ 4.2638e-01, -1.2006e+00, -3.8792e-01,  ..., -4.4870e-01,\n",
            "            7.3663e-01,  6.9282e-01],\n",
            "          [ 3.1160e-02, -6.0829e-02, -3.4389e-01,  ..., -2.9859e-01,\n",
            "           -2.8173e-01,  2.5025e-01],\n",
            "          [-4.1580e-02, -1.7141e-01,  2.0877e-01,  ..., -3.4345e-01,\n",
            "           -2.9346e-01, -3.0556e-01],\n",
            "          ...,\n",
            "          [-3.5628e-01,  8.8358e-02, -9.3708e-01,  ..., -1.8875e-01,\n",
            "            1.2738e-01, -3.6774e-02],\n",
            "          [ 1.4838e-01, -1.5515e-01, -2.9680e-01,  ...,  7.2643e-01,\n",
            "            4.3170e-01,  2.5673e-01],\n",
            "          [-1.4020e-02,  1.1137e-01,  9.5809e-02,  ...,  3.5109e-01,\n",
            "           -4.2948e-02,  6.2148e-01]],\n",
            "\n",
            "         [[-4.0656e-01, -1.0226e+00, -7.5030e-01,  ...,  8.1760e-01,\n",
            "            5.6175e-01, -3.8621e-01],\n",
            "          [ 5.4267e-03,  3.2456e-01, -5.6938e-01,  ..., -1.3473e+00,\n",
            "           -1.4778e+00,  9.3546e-01],\n",
            "          [ 6.3504e-01, -1.7155e-01,  7.3302e-01,  ..., -5.4788e-01,\n",
            "            3.6485e-01, -1.6349e+00],\n",
            "          ...,\n",
            "          [-8.8741e-01,  2.9030e-01,  1.6462e+00,  ..., -8.7577e-01,\n",
            "            7.6379e-01, -9.1265e-01],\n",
            "          [-8.2345e-02, -9.2146e-01, -2.2105e+00,  ..., -1.2716e+00,\n",
            "           -1.6598e-01, -5.3485e-01],\n",
            "          [-5.2370e-01, -3.0602e-01,  6.7799e-01,  ...,  1.0509e-01,\n",
            "           -1.0072e+00, -1.0063e+00]],\n",
            "\n",
            "         [[ 8.1634e-01,  7.2078e-01,  2.4769e-01,  ...,  2.0930e-01,\n",
            "           -7.2853e-01,  6.4637e-01],\n",
            "          [-7.0890e-01, -6.9054e-02, -3.5805e-01,  ..., -7.0978e-02,\n",
            "           -2.7791e-01, -6.1171e-01],\n",
            "          [-1.1017e+00, -2.5544e-01,  1.3182e-01,  ...,  7.2090e-02,\n",
            "            8.4627e-02,  3.1403e-01],\n",
            "          ...,\n",
            "          [ 1.5409e-01, -1.4847e-01, -5.5518e-01,  ..., -5.8242e-01,\n",
            "            4.0841e-01, -7.7609e-02],\n",
            "          [ 4.3264e-01,  5.1948e-01,  5.9857e-01,  ..., -1.8705e-01,\n",
            "            1.7160e+00,  5.9093e-01],\n",
            "          [-4.1521e-01,  1.7864e-01,  1.0082e-01,  ..., -1.0881e+00,\n",
            "            6.6628e-01,  1.0065e+00]],\n",
            "\n",
            "         [[ 6.3096e-01, -4.0417e-01, -5.5578e-01,  ..., -2.4233e-01,\n",
            "            1.0804e+00,  7.5626e-01],\n",
            "          [-3.5766e-01, -5.1296e-01,  2.9598e-01,  ...,  2.4216e-01,\n",
            "           -1.7196e-01,  1.2394e-01],\n",
            "          [-2.6866e-03, -8.7495e-01, -7.8354e-04,  ..., -1.7579e-01,\n",
            "            8.0642e-01,  3.6524e-01],\n",
            "          ...,\n",
            "          [ 1.1300e-01, -7.7366e-01,  1.7180e-01,  ..., -8.2533e-01,\n",
            "            1.4210e-01, -1.5923e-01],\n",
            "          [ 4.7279e-01, -1.5612e-01, -1.3212e-01,  ...,  5.1177e-01,\n",
            "            1.5462e-01,  1.0004e+00],\n",
            "          [-4.4189e-01, -1.9667e-01,  3.5198e-01,  ...,  7.6162e-01,\n",
            "            1.3476e+00,  9.1360e-01]],\n",
            "\n",
            "         [[-1.4447e-02, -6.5606e-01,  5.8416e-02,  ...,  6.9489e-01,\n",
            "            1.8013e-01,  5.0975e-01],\n",
            "          [ 2.6139e-01,  2.5826e-02, -6.2161e-01,  ..., -7.1958e-01,\n",
            "           -8.9707e-01, -5.8752e-01],\n",
            "          [ 3.5201e-01,  3.7932e-01,  2.4149e-01,  ..., -8.6718e-01,\n",
            "           -7.2567e-01, -3.7758e-01],\n",
            "          ...,\n",
            "          [-4.8261e-01, -9.0059e-02, -2.9421e-01,  ..., -8.9416e-02,\n",
            "            1.0881e-02, -6.0401e-01],\n",
            "          [ 1.4738e-01,  2.7660e-01, -2.2661e-01,  ...,  5.9293e-01,\n",
            "            4.0473e-01, -1.0774e-01],\n",
            "          [-1.7538e-01,  1.7154e-01, -4.2134e-01,  ..., -7.6811e-01,\n",
            "           -6.8468e-01, -5.6653e-01]]]], grad_fn=<ThnnConv2DBackward0>)\n"
          ]
        }
      ]
    },
    {
      "cell_type": "markdown",
      "source": [
        "## My Conv2D"
      ],
      "metadata": {
        "id": "Qwf3fU2Z_Cne"
      }
    },
    {
      "cell_type": "code",
      "source": [
        "class Myconv2d(nn.Module):\n",
        "  def __init__(self, in_channels, out_channels, kernel_size, stride, bias):\n",
        "    super(Myconv2d, self).__init__()\n",
        "    self.stride = stride\n",
        "    self.kernel_size = kernel_size\n",
        "    self.kernel_height = kernel_size[0]\n",
        "    self.kernel_width = kernel_size[1]\n",
        "    self.in_channels = in_channels\n",
        "    self.out_channels = out_channels\n",
        "    self.bias = bias\n",
        "\n",
        "  def forward(self, x):\n",
        "    x_batch = x.size(0)\n",
        "    x_channel = x.size(1)\n",
        "    x_height = x.size(2)\n",
        "    x_width = x.size(3)\n",
        "    \n",
        "    y_height = int((x_height - self.kernel_height) / self.stride) + 1\n",
        "    y_width = int((x_width - self.kernel_width) / self.stride) + 1\n",
        "    y_channels = self.out_channels\n",
        "    y = torch.zeros((x_batch, y_channels, y_height, y_width))\n",
        "    \n",
        "    for a in range(x_batch):\n",
        "      for b in range(y_channels):\n",
        "        for c in range(x_channel):\n",
        "          for i in range(y_height):\n",
        "            for j in range(y_width):\n",
        "              start_i = i * self.stride\n",
        "              start_j = j * self.stride\n",
        "              end_i = start_i + self.kernel_height\n",
        "              end_j = start_j + self.kernel_width\n",
        "              y[a, b, i, j] += (x[a, c, start_i:end_i, start_j:end_j] * torch_kernel[b][c]).sum()\n",
        "    \n",
        "    for i in range(y_channels):\n",
        "      y[0][i] += torch_bias[i]\n",
        "\n",
        "    return y\n",
        "\n",
        "myconv2D = Myconv2d(in_channels = 3, out_channels = 6, \n",
        "                    kernel_size = (3 ,3), stride = 1, \n",
        "                    bias = torch_bias)\n",
        "my_out = myconv2D(X)\n",
        "print(my_out)"
      ],
      "metadata": {
        "colab": {
          "base_uri": "https://localhost:8080/"
        },
        "outputId": "9c74189c-4007-48e9-a3c6-11bf6230dcb2",
        "id": "OyNAP7-H_Cnf"
      },
      "execution_count": null,
      "outputs": [
        {
          "output_type": "stream",
          "name": "stdout",
          "text": [
            "tensor([[[[ 6.4541e-01, -4.9002e-02, -8.2768e-01,  ...,  5.3109e-01,\n",
            "            9.8171e-01,  7.2008e-01],\n",
            "          [-2.2148e-01,  9.1171e-02,  3.8695e-01,  ...,  7.0360e-01,\n",
            "            5.2570e-01,  6.2671e-01],\n",
            "          [ 2.7258e-02,  2.3801e-01,  5.0505e-01,  ..., -7.0291e-01,\n",
            "            5.3436e-01, -8.5201e-01],\n",
            "          ...,\n",
            "          [-4.4795e-01, -2.6910e-02,  1.5481e+00,  ...,  1.9305e-01,\n",
            "            1.2381e+00,  4.4610e-02],\n",
            "          [ 2.2510e-01,  2.6381e-01, -1.7242e+00,  ..., -8.7501e-01,\n",
            "            3.1584e-01, -4.4386e-02],\n",
            "          [ 1.3277e-01, -1.8953e-02,  1.6660e+00,  ...,  8.1455e-01,\n",
            "            3.9618e-01,  3.8421e-01]],\n",
            "\n",
            "         [[ 4.2638e-01, -1.2006e+00, -3.8792e-01,  ..., -4.4870e-01,\n",
            "            7.3663e-01,  6.9282e-01],\n",
            "          [ 3.1160e-02, -6.0829e-02, -3.4389e-01,  ..., -2.9859e-01,\n",
            "           -2.8173e-01,  2.5025e-01],\n",
            "          [-4.1580e-02, -1.7141e-01,  2.0877e-01,  ..., -3.4345e-01,\n",
            "           -2.9346e-01, -3.0556e-01],\n",
            "          ...,\n",
            "          [-3.5628e-01,  8.8358e-02, -9.3708e-01,  ..., -1.8875e-01,\n",
            "            1.2738e-01, -3.6774e-02],\n",
            "          [ 1.4838e-01, -1.5515e-01, -2.9680e-01,  ...,  7.2643e-01,\n",
            "            4.3170e-01,  2.5673e-01],\n",
            "          [-1.4020e-02,  1.1137e-01,  9.5809e-02,  ...,  3.5109e-01,\n",
            "           -4.2948e-02,  6.2148e-01]],\n",
            "\n",
            "         [[-4.0656e-01, -1.0226e+00, -7.5030e-01,  ...,  8.1760e-01,\n",
            "            5.6175e-01, -3.8621e-01],\n",
            "          [ 5.4266e-03,  3.2456e-01, -5.6938e-01,  ..., -1.3473e+00,\n",
            "           -1.4778e+00,  9.3546e-01],\n",
            "          [ 6.3504e-01, -1.7155e-01,  7.3302e-01,  ..., -5.4788e-01,\n",
            "            3.6485e-01, -1.6349e+00],\n",
            "          ...,\n",
            "          [-8.8741e-01,  2.9030e-01,  1.6462e+00,  ..., -8.7577e-01,\n",
            "            7.6379e-01, -9.1265e-01],\n",
            "          [-8.2345e-02, -9.2146e-01, -2.2105e+00,  ..., -1.2716e+00,\n",
            "           -1.6598e-01, -5.3485e-01],\n",
            "          [-5.2370e-01, -3.0602e-01,  6.7799e-01,  ...,  1.0509e-01,\n",
            "           -1.0072e+00, -1.0063e+00]],\n",
            "\n",
            "         [[ 8.1634e-01,  7.2078e-01,  2.4769e-01,  ...,  2.0930e-01,\n",
            "           -7.2853e-01,  6.4637e-01],\n",
            "          [-7.0890e-01, -6.9054e-02, -3.5805e-01,  ..., -7.0978e-02,\n",
            "           -2.7791e-01, -6.1171e-01],\n",
            "          [-1.1017e+00, -2.5544e-01,  1.3182e-01,  ...,  7.2090e-02,\n",
            "            8.4627e-02,  3.1403e-01],\n",
            "          ...,\n",
            "          [ 1.5409e-01, -1.4847e-01, -5.5518e-01,  ..., -5.8242e-01,\n",
            "            4.0841e-01, -7.7609e-02],\n",
            "          [ 4.3264e-01,  5.1948e-01,  5.9858e-01,  ..., -1.8705e-01,\n",
            "            1.7160e+00,  5.9093e-01],\n",
            "          [-4.1521e-01,  1.7864e-01,  1.0082e-01,  ..., -1.0881e+00,\n",
            "            6.6628e-01,  1.0065e+00]],\n",
            "\n",
            "         [[ 6.3096e-01, -4.0417e-01, -5.5578e-01,  ..., -2.4233e-01,\n",
            "            1.0804e+00,  7.5626e-01],\n",
            "          [-3.5766e-01, -5.1296e-01,  2.9598e-01,  ...,  2.4216e-01,\n",
            "           -1.7196e-01,  1.2394e-01],\n",
            "          [-2.6866e-03, -8.7495e-01, -7.8356e-04,  ..., -1.7579e-01,\n",
            "            8.0642e-01,  3.6524e-01],\n",
            "          ...,\n",
            "          [ 1.1300e-01, -7.7366e-01,  1.7180e-01,  ..., -8.2533e-01,\n",
            "            1.4210e-01, -1.5923e-01],\n",
            "          [ 4.7279e-01, -1.5612e-01, -1.3212e-01,  ...,  5.1177e-01,\n",
            "            1.5462e-01,  1.0004e+00],\n",
            "          [-4.4189e-01, -1.9667e-01,  3.5198e-01,  ...,  7.6162e-01,\n",
            "            1.3476e+00,  9.1360e-01]],\n",
            "\n",
            "         [[-1.4447e-02, -6.5606e-01,  5.8416e-02,  ...,  6.9489e-01,\n",
            "            1.8013e-01,  5.0975e-01],\n",
            "          [ 2.6139e-01,  2.5826e-02, -6.2161e-01,  ..., -7.1958e-01,\n",
            "           -8.9707e-01, -5.8752e-01],\n",
            "          [ 3.5201e-01,  3.7932e-01,  2.4149e-01,  ..., -8.6718e-01,\n",
            "           -7.2567e-01, -3.7758e-01],\n",
            "          ...,\n",
            "          [-4.8261e-01, -9.0059e-02, -2.9421e-01,  ..., -8.9416e-02,\n",
            "            1.0881e-02, -6.0401e-01],\n",
            "          [ 1.4738e-01,  2.7660e-01, -2.2661e-01,  ...,  5.9293e-01,\n",
            "            4.0473e-01, -1.0774e-01],\n",
            "          [-1.7538e-01,  1.7154e-01, -4.2134e-01,  ..., -7.6811e-01,\n",
            "           -6.8468e-01, -5.6653e-01]]]])\n"
          ]
        }
      ]
    },
    {
      "cell_type": "markdown",
      "source": [
        "## Comparision"
      ],
      "metadata": {
        "id": "gXbTq2lP_Cnf"
      }
    },
    {
      "cell_type": "code",
      "source": [
        "print(torch.all(torch.abs(my_out - torch_out) <= 1e-6))"
      ],
      "metadata": {
        "colab": {
          "base_uri": "https://localhost:8080/"
        },
        "outputId": "59de52ac-1221-4d24-ef86-b61af2a7c1f2",
        "id": "n8OeIZVA_Cnf"
      },
      "execution_count": null,
      "outputs": [
        {
          "output_type": "stream",
          "name": "stdout",
          "text": [
            "tensor(True)\n"
          ]
        }
      ]
    },
    {
      "cell_type": "markdown",
      "source": [
        "# Conv2D II"
      ],
      "metadata": {
        "id": "RyZZvNDsIE9X"
      }
    },
    {
      "cell_type": "markdown",
      "source": [
        "## Official Conv2D"
      ],
      "metadata": {
        "id": "FHkUJhMSIE9d"
      }
    },
    {
      "cell_type": "code",
      "source": [
        "conv2d = torch.nn.Conv2d(in_channels=3, out_channels=6, \n",
        "                         kernel_size=5, stride=2, \n",
        "                         padding=0, dilation=2, \n",
        "                         groups=1, bias=True, \n",
        "                         padding_mode='zeros')\n",
        "torch_out = conv2d(X)\n",
        "torch_kernel = conv2d.weight.data\n",
        "torch_bias = conv2d.bias.data\n",
        "print(torch_out)"
      ],
      "metadata": {
        "colab": {
          "base_uri": "https://localhost:8080/"
        },
        "outputId": "cdcbbcf8-d0db-4fe9-aafb-492530aeaac4",
        "id": "9W6fVNEiIE9d"
      },
      "execution_count": null,
      "outputs": [
        {
          "output_type": "stream",
          "name": "stdout",
          "text": [
            "tensor([[[[ 5.2668e-01, -2.8034e-01,  3.6539e-01, -9.5675e-01,  5.9627e-01,\n",
            "           -6.9093e-01, -1.8938e+00,  1.4877e-02,  9.5674e-01,  2.7156e-01,\n",
            "           -1.6594e-01,  4.0911e-01],\n",
            "          [ 8.0104e-01,  8.0244e-02, -9.6878e-01, -7.2762e-01, -8.2155e-02,\n",
            "            7.3324e-02,  3.6484e-02, -1.7749e-01, -3.5964e-01, -2.1342e-01,\n",
            "            4.4991e-01,  1.4061e+00],\n",
            "          [ 3.9626e-01, -5.4469e-02, -1.1179e+00, -1.1882e-01,  6.8619e-01,\n",
            "            6.6385e-01, -2.7402e-01, -2.8063e-02,  3.7972e-01,  7.9659e-02,\n",
            "           -7.0091e-01, -5.9341e-01],\n",
            "          [-5.6028e-01,  1.3821e-02,  1.6670e-01,  3.4714e-01, -5.4297e-01,\n",
            "           -2.4029e-01,  7.1688e-02,  2.2234e-01, -5.1996e-02,  5.4929e-02,\n",
            "           -1.0152e-01,  1.1074e-01],\n",
            "          [-8.2180e-02,  5.7842e-01, -4.5866e-01, -4.0539e-01,  3.8999e-01,\n",
            "            6.2895e-01, -6.5914e-01, -6.7251e-01, -6.6775e-02, -1.0620e+00,\n",
            "           -7.3400e-01,  8.3110e-01],\n",
            "          [-8.8580e-02,  6.1221e-01,  6.2823e-01,  1.5260e-01,  9.9391e-02,\n",
            "           -6.9847e-02,  1.3427e+00, -1.6823e-01, -6.5290e-01,  1.4844e+00,\n",
            "            4.8224e-01, -1.5028e+00],\n",
            "          [ 9.0583e-02, -5.4196e-01, -2.9751e-02,  6.9730e-03, -3.7097e-01,\n",
            "            1.7954e-01, -2.7999e-01, -2.0221e+00, -7.3130e-01,  4.3415e-01,\n",
            "            1.5838e-02,  4.7961e-01],\n",
            "          [-2.0962e-01,  1.4861e-01, -2.4262e-01, -6.6216e-01, -2.7386e-01,\n",
            "           -9.4812e-01,  4.0645e-01,  6.8833e-01, -2.0368e-01, -6.8556e-01,\n",
            "            5.5921e-01, -8.9737e-01],\n",
            "          [ 8.9241e-01, -1.1534e+00, -1.4005e-01, -7.9724e-01,  5.4942e-01,\n",
            "           -6.4584e-01,  1.0048e-01, -5.9758e-02,  2.1264e-01, -4.2659e-01,\n",
            "           -3.2790e-01,  1.2604e+00],\n",
            "          [-8.3895e-01, -3.9687e-01,  5.5773e-01, -6.4778e-01,  4.3489e-01,\n",
            "            8.7459e-02, -9.1769e-01, -4.4165e-01,  3.0106e-02, -9.6220e-02,\n",
            "           -4.0597e-01,  6.4535e-01],\n",
            "          [ 2.1097e-01, -8.3484e-01, -3.9654e-01,  2.8495e-01, -1.2690e-01,\n",
            "           -6.8146e-01,  2.8180e-02, -9.6996e-02, -2.1370e-01,  8.3508e-01,\n",
            "            4.1527e-01, -5.0594e-01],\n",
            "          [-2.9673e-01,  4.1731e-02,  9.4543e-02, -2.0999e-01,  5.5581e-01,\n",
            "            3.9208e-01, -1.3792e-01, -7.5305e-01, -5.6692e-01, -5.7407e-01,\n",
            "            2.0688e-01,  1.8087e-01]],\n",
            "\n",
            "         [[-2.3370e-02,  1.3146e+00, -1.3574e+00,  1.7886e-01,  2.7021e-01,\n",
            "           -6.9486e-01, -2.9970e-01,  1.8769e-01,  4.9600e-02,  1.3316e-01,\n",
            "           -6.1771e-01,  3.9381e-01],\n",
            "          [ 2.4462e-01, -7.9272e-01, -2.2636e-01,  4.7794e-01,  6.1853e-02,\n",
            "            3.2460e-01, -6.2707e-01, -3.0660e-01,  8.8874e-01, -6.3611e-01,\n",
            "            1.0723e+00, -4.7635e-01],\n",
            "          [-5.8575e-01, -7.0032e-01,  5.2138e-01,  1.1836e-01,  4.1943e-01,\n",
            "           -7.7027e-02, -3.0615e-01,  5.7928e-02, -1.1650e-01, -8.8447e-01,\n",
            "           -1.4750e+00,  3.1253e-01],\n",
            "          [ 1.8395e-01, -1.2661e-01,  1.0944e+00,  8.9037e-03,  2.7910e-01,\n",
            "           -1.5288e-02, -4.4634e-01,  7.0557e-02,  3.8322e-01, -1.3085e+00,\n",
            "            3.3689e-01, -8.1264e-01],\n",
            "          [ 7.2587e-01, -9.1930e-02,  6.9984e-02,  1.3323e-01, -1.4233e-02,\n",
            "           -5.3286e-01,  7.2585e-01, -7.5345e-01, -6.2088e-01,  6.1999e-01,\n",
            "            1.0427e+00, -1.3094e-01],\n",
            "          [-2.8012e-03, -6.9790e-02, -4.1552e-01,  2.3524e-01, -2.5741e-01,\n",
            "            5.5490e-01, -2.3649e-02, -1.1622e+00, -7.6445e-01, -3.7307e-01,\n",
            "           -1.8996e-01,  5.1908e-01],\n",
            "          [ 3.1936e-01, -5.8436e-01,  2.2553e-01, -8.1080e-01, -3.8292e-02,\n",
            "            2.1260e-01, -1.0331e+00, -9.1937e-02,  1.8433e-01, -1.5849e-01,\n",
            "           -1.8981e-01,  8.8531e-01],\n",
            "          [-7.9584e-03, -4.3280e-01, -4.3231e-01, -8.9063e-01, -5.9560e-01,\n",
            "           -9.9479e-01, -4.3518e-01,  4.2061e-01, -7.0646e-02,  2.8232e-01,\n",
            "            9.2283e-01, -1.6727e-01],\n",
            "          [-9.5774e-01, -8.2675e-01,  1.0701e-01, -6.2092e-01, -4.4988e-01,\n",
            "           -2.6087e-01, -4.4929e-01,  1.7810e-01,  3.4161e-01, -5.6900e-01,\n",
            "            1.4839e+00,  4.2131e-01],\n",
            "          [-2.2102e-01, -9.9465e-01,  4.7703e-01,  2.9266e-01,  3.1631e-01,\n",
            "            5.9555e-01,  2.6393e-01, -9.4750e-01, -1.2215e+00,  1.7057e-01,\n",
            "            6.8654e-01, -7.7414e-01],\n",
            "          [-5.4199e-01, -7.0247e-01, -1.3121e-01, -5.0719e-01,  7.8126e-02,\n",
            "            5.1148e-01,  1.2725e+00, -1.2095e+00, -7.6812e-01,  7.0656e-02,\n",
            "           -5.9071e-01, -1.6295e-01],\n",
            "          [-6.3408e-01,  8.0255e-02, -1.0879e+00,  4.8499e-01,  1.0034e-01,\n",
            "            9.0519e-02,  1.8053e-01, -4.1960e-01, -6.0370e-01, -9.3486e-01,\n",
            "            3.1449e-01,  4.1604e-01]],\n",
            "\n",
            "         [[ 3.5760e-01, -3.4749e-02,  4.0809e-01, -4.3604e-01, -2.3620e-01,\n",
            "           -1.4253e+00, -3.1419e-01,  4.5581e-02, -7.6669e-02,  2.3929e-01,\n",
            "           -2.4067e-01, -6.5645e-01],\n",
            "          [ 6.3766e-01,  2.7725e-02, -2.7430e-01, -7.6548e-01, -6.0140e-01,\n",
            "           -4.3130e-01, -1.4307e+00, -3.7259e-01, -2.8828e-01,  1.0559e+00,\n",
            "           -4.9547e-01, -2.9099e-01],\n",
            "          [-3.1176e-01,  5.6978e-02, -4.3359e-01, -2.2239e-02, -3.0410e-01,\n",
            "            6.6674e-01, -1.4460e-01, -5.7132e-01, -7.2930e-02,  1.2313e+00,\n",
            "           -3.5974e-01, -4.2182e-01],\n",
            "          [-3.9770e-02,  1.9300e-01, -4.5621e-01, -1.0655e-02, -4.2721e-01,\n",
            "            2.8881e-01,  1.8569e-01,  4.8132e-01,  2.2668e+00,  5.1084e-01,\n",
            "            3.4251e-01, -2.9096e-03],\n",
            "          [-3.5312e-01,  5.1040e-01, -5.9459e-01,  2.1564e-01, -1.9535e-01,\n",
            "           -4.4265e-01,  2.2201e-01,  3.6926e-01, -3.0871e-01,  1.0794e-01,\n",
            "            1.0875e+00,  7.8481e-01],\n",
            "          [ 5.4581e-01,  1.0968e-01, -6.5960e-01, -4.6832e-02,  4.4832e-01,\n",
            "           -1.9670e-01, -5.3420e-01, -1.3574e-01, -5.6888e-02, -8.0926e-01,\n",
            "           -5.5091e-01,  1.7509e-01],\n",
            "          [ 1.6794e-01,  1.2710e+00,  2.4053e-01, -7.1498e-01, -1.3739e-01,\n",
            "            1.1700e+00, -4.6940e-01, -1.8142e+00, -3.2765e-02,  3.0354e-02,\n",
            "           -6.5529e-01, -1.1871e+00],\n",
            "          [ 5.3816e-01,  3.2153e-01,  2.2256e-01,  6.9072e-01, -5.5015e-01,\n",
            "           -5.4326e-01,  1.1726e+00, -1.0186e+00, -5.4647e-01,  5.5133e-01,\n",
            "            7.3356e-01, -6.8448e-01],\n",
            "          [ 9.9660e-01,  2.5299e-01, -4.8691e-02, -4.5655e-01,  1.3379e+00,\n",
            "           -7.0271e-01,  7.1578e-02,  2.8893e-01, -7.2129e-02, -1.2213e+00,\n",
            "            8.4512e-02,  7.6826e-01],\n",
            "          [ 7.7013e-01, -9.6202e-01,  5.4868e-01, -2.2149e-01,  1.1738e+00,\n",
            "            1.1737e-01, -1.1389e+00, -9.1129e-01, -5.6539e-01,  2.1115e-01,\n",
            "           -9.7084e-01,  5.5213e-01],\n",
            "          [ 9.9477e-01,  3.7991e-02, -4.7285e-01,  1.6520e-01,  4.9697e-01,\n",
            "           -7.2092e-01,  3.5788e-01, -3.9351e-01, -2.7762e-01,  2.8245e-01,\n",
            "           -4.0198e-01,  1.0800e-01],\n",
            "          [-1.2398e-01,  2.1442e-01, -3.7315e-01, -7.8435e-01, -4.3086e-02,\n",
            "           -2.0309e-01,  6.8785e-01, -8.0412e-02,  5.1179e-01,  4.9191e-01,\n",
            "            4.6354e-01,  1.7601e-02]],\n",
            "\n",
            "         [[-7.2562e-01,  8.3342e-01,  5.2042e-01, -1.8807e-01, -3.4434e-01,\n",
            "            3.8248e-01, -6.3782e-01,  3.1101e-01, -1.5634e-01,  9.6008e-02,\n",
            "           -4.6712e-02,  4.8203e-01],\n",
            "          [ 8.5332e-01, -1.9044e-01, -1.3409e-02,  2.4138e-01,  3.8092e-01,\n",
            "           -9.6980e-01, -1.1256e+00, -7.1196e-01, -5.8752e-02, -7.7582e-02,\n",
            "            1.7245e-01,  1.0444e+00],\n",
            "          [-4.6955e-01, -1.5574e-02,  3.0240e-01,  8.6598e-01,  2.3516e-01,\n",
            "           -1.9028e-01,  6.9846e-01,  2.6247e-03, -5.6315e-01, -1.1886e+00,\n",
            "            4.4978e-01,  8.5523e-01],\n",
            "          [ 1.7625e-01, -2.4874e-01,  3.5113e-01,  6.1394e-01,  4.6501e-01,\n",
            "           -1.8562e-01,  1.2859e+00,  1.5760e+00, -5.0529e-01, -4.1165e-01,\n",
            "            7.2105e-01,  6.7115e-01],\n",
            "          [-2.0839e-01,  3.5765e-01,  2.4951e-01, -8.6118e-01, -3.9916e-01,\n",
            "           -4.2761e-01, -5.4726e-01,  6.6246e-01, -4.4210e-01,  2.9191e-02,\n",
            "            5.5634e-01,  5.8149e-01],\n",
            "          [-2.1420e-01, -1.3035e-01, -3.4318e-01, -1.4694e-01, -4.0169e-01,\n",
            "            5.8235e-01,  4.6129e-01, -8.8549e-01, -3.7639e-01,  5.7014e-01,\n",
            "           -7.4602e-02, -3.1255e-01],\n",
            "          [-9.8680e-02, -2.0104e-01, -1.0752e-01,  2.6751e-01, -9.0379e-03,\n",
            "            9.2580e-01,  1.5372e+00,  5.5752e-01,  8.2208e-01,  5.6364e-01,\n",
            "            4.9836e-01,  3.4362e-01],\n",
            "          [-3.8207e-01,  1.5903e-01, -7.4030e-01, -1.3152e+00,  7.2625e-01,\n",
            "           -2.0143e-01,  4.0333e-02,  2.5613e-01,  4.8538e-02, -1.2006e+00,\n",
            "            3.8359e-01,  9.2428e-01],\n",
            "          [ 6.3275e-01, -7.1997e-01,  7.2269e-01, -1.6352e-01, -1.0058e+00,\n",
            "           -5.3709e-01, -3.1281e-01,  1.4753e-01,  3.6062e-01,  3.3463e-01,\n",
            "            4.3166e-01, -4.2452e-02],\n",
            "          [-2.1492e-01,  8.6214e-01,  2.5920e-01,  2.8348e-01,  3.4630e-01,\n",
            "           -5.2330e-01, -8.3877e-02,  6.7960e-01,  6.1313e-01, -4.7139e-01,\n",
            "            5.6598e-01, -7.8115e-01],\n",
            "          [-8.5008e-01,  2.5498e-01,  5.3212e-01,  3.3097e-01,  5.4631e-01,\n",
            "           -3.4980e-01,  1.0270e-01, -9.8453e-01,  2.2645e-02,  3.4240e-01,\n",
            "           -1.5249e-01,  9.4411e-02],\n",
            "          [-9.0398e-02,  8.4298e-01,  1.5647e-01,  3.0909e-01,  8.3158e-01,\n",
            "            3.5331e-01,  2.0964e-01, -1.1429e+00,  1.6930e-01, -3.1075e-02,\n",
            "           -7.2494e-01, -3.0109e-01]],\n",
            "\n",
            "         [[ 4.9070e-01, -3.4208e-01, -4.6529e-01,  4.6757e-01, -3.9129e-01,\n",
            "            8.1983e-01,  2.8223e-01, -1.4364e-03, -1.9461e-01,  1.0917e+00,\n",
            "           -2.4521e-01,  2.1552e-01],\n",
            "          [-2.1686e-01,  4.8941e-01, -2.0081e-01,  9.1774e-01, -6.3352e-01,\n",
            "            7.9779e-01, -1.3998e-01,  3.4825e-01, -3.6613e-01, -8.1331e-02,\n",
            "            3.5037e-01, -3.2003e-01],\n",
            "          [-1.2335e-01, -3.4006e-01,  1.8652e-01,  4.0614e-01, -9.9827e-01,\n",
            "           -2.7136e-01, -6.1196e-01, -4.9159e-01,  4.3579e-01,  2.3507e-01,\n",
            "            5.9604e-01, -3.3915e-01],\n",
            "          [-3.7498e-01, -9.5416e-01,  5.2758e-01,  1.3992e-01, -4.2957e-01,\n",
            "            3.4180e-01,  2.1814e-02, -1.0078e+00, -6.8788e-02, -4.8168e-01,\n",
            "            4.8170e-01, -7.6134e-01],\n",
            "          [ 1.1523e-01, -2.7426e-01,  8.2833e-01,  5.5066e-01,  2.8215e-01,\n",
            "            4.1594e-01,  1.8728e-01, -5.5714e-01,  6.1021e-01,  8.5508e-01,\n",
            "            9.6087e-02, -1.3957e-03],\n",
            "          [ 5.2480e-01, -2.5929e-02,  2.7885e-01,  5.8834e-01, -5.6799e-01,\n",
            "           -4.8851e-01, -1.0571e+00,  5.1872e-01, -8.8592e-03, -2.1169e-01,\n",
            "            7.8232e-01,  4.5046e-01],\n",
            "          [-5.8879e-02, -9.9704e-02,  2.9643e-02,  1.1442e-01, -7.6397e-01,\n",
            "           -1.6436e-01, -1.4009e+00, -1.3637e-01, -2.5663e-01, -1.6388e-01,\n",
            "           -3.8111e-01,  6.4687e-01],\n",
            "          [ 1.8559e-01,  2.9426e-01, -2.8391e-01,  3.9620e-01, -9.1620e-01,\n",
            "            3.4754e-01, -1.1424e-01,  1.8632e-01, -4.3845e-01, -3.0309e-01,\n",
            "            5.2341e-01, -1.0106e+00],\n",
            "          [-3.6163e-01,  6.2198e-02, -8.5795e-01, -8.6112e-01,  3.2998e-01,\n",
            "            5.4032e-02, -5.2226e-01,  5.4962e-02, -2.6021e-01, -5.5949e-01,\n",
            "            8.2044e-01,  5.5646e-02],\n",
            "          [ 1.7432e-01, -2.5311e-01,  1.3108e+00, -3.7405e-01,  3.8746e-01,\n",
            "           -6.2126e-01,  4.6867e-01,  1.3696e-01, -7.8344e-02,  8.7247e-01,\n",
            "            5.8015e-01, -3.7472e-02],\n",
            "          [ 8.2411e-01, -6.2823e-01,  2.6564e-01,  3.0909e-01,  5.9573e-01,\n",
            "            2.2407e-01,  1.8062e-01, -2.5017e-01, -5.1124e-01,  2.5260e-01,\n",
            "           -8.1283e-01,  1.7265e-01],\n",
            "          [ 5.1965e-01, -1.1205e+00, -1.9114e-01,  7.1294e-01,  2.8238e-01,\n",
            "           -9.0682e-02, -4.1293e-01, -5.9867e-01,  1.3938e-01,  7.6924e-03,\n",
            "           -1.0605e+00,  9.8847e-01]],\n",
            "\n",
            "         [[-3.3012e-02, -8.1985e-01,  5.6480e-01, -4.1703e-01,  8.5722e-01,\n",
            "            4.4567e-01, -4.0412e-01,  4.2290e-01, -1.6284e-01, -7.2535e-02,\n",
            "           -6.1738e-01, -7.4472e-01],\n",
            "          [-6.2588e-01,  3.9610e-01, -3.9202e-01, -6.9818e-02,  5.0423e-01,\n",
            "            2.5984e-01,  3.8979e-01,  4.9615e-01,  8.4511e-01,  8.1675e-01,\n",
            "           -1.1341e+00, -4.0437e-01],\n",
            "          [-5.7847e-01,  4.2967e-01,  8.4914e-01,  3.5494e-02, -4.5979e-01,\n",
            "            3.0602e-01,  7.1047e-01,  5.5819e-01, -9.1333e-01,  3.8375e-01,\n",
            "            2.1392e-01, -3.5753e-01],\n",
            "          [ 2.2761e-01,  1.2680e-01,  4.0742e-01, -3.9308e-01,  1.6682e-01,\n",
            "           -5.5639e-01, -4.7860e-01,  3.6624e-02, -1.1775e+00, -1.9080e-01,\n",
            "           -1.3779e+00,  4.8075e-01],\n",
            "          [-1.6022e+00,  1.0953e+00,  3.1359e-01, -7.1813e-01, -2.3441e-02,\n",
            "            6.0638e-01, -1.0128e+00, -5.8280e-01, -1.9352e-01,  6.1169e-01,\n",
            "           -1.2829e+00, -1.5439e+00],\n",
            "          [ 5.4788e-01,  7.4848e-02,  7.1321e-01, -2.3102e-01,  7.8038e-02,\n",
            "           -3.0364e-01,  7.7975e-01, -6.7099e-01, -6.6538e-01,  6.5282e-01,\n",
            "            4.7157e-01, -4.2027e-01],\n",
            "          [-1.3950e-01, -1.6057e-01,  3.6524e-01, -6.5858e-01, -7.9944e-01,\n",
            "           -9.7447e-01,  2.3286e-01,  1.1019e+00, -1.4969e-01,  1.6530e-02,\n",
            "           -4.0891e-02,  1.8333e-01],\n",
            "          [ 5.8524e-01,  1.7290e-01, -2.9581e-01, -3.1999e-01,  4.0939e-01,\n",
            "            1.4122e-01,  4.3628e-01,  5.1710e-01, -5.5443e-01,  2.6063e-02,\n",
            "           -3.5059e-01, -3.6859e-01],\n",
            "          [-7.8089e-01, -4.7199e-01,  1.2277e-01, -4.3739e-01,  3.3614e-01,\n",
            "            2.4444e-01,  2.4491e-01,  3.7256e-01, -3.6932e-01, -1.3984e-01,\n",
            "           -1.5704e-01,  3.8025e-01],\n",
            "          [-3.5490e-01,  3.7496e-01, -7.0350e-01,  6.8727e-02, -6.6874e-02,\n",
            "            2.5384e-01, -4.6486e-01, -1.4110e-01,  7.0207e-01,  3.2068e-01,\n",
            "           -3.0123e-01, -6.4047e-01],\n",
            "          [ 3.4566e-02,  1.6694e-01, -3.4618e-01, -3.8766e-01, -5.2797e-01,\n",
            "           -1.6981e-01,  1.8871e-01,  4.5927e-01,  7.1335e-01,  2.4186e-01,\n",
            "            8.5411e-03,  3.7986e-02],\n",
            "          [-7.9352e-01, -6.1376e-01,  4.0168e-01,  9.9990e-02,  5.0317e-01,\n",
            "           -1.1025e+00, -2.7315e-01,  6.9186e-01,  3.3660e-01, -1.4075e+00,\n",
            "           -1.2778e-01, -2.7576e-01]]]], grad_fn=<MkldnnConvolutionBackward0>)\n"
          ]
        }
      ]
    },
    {
      "cell_type": "markdown",
      "source": [
        "## My Conv2D"
      ],
      "metadata": {
        "id": "JA0cDdVEIE9e"
      }
    },
    {
      "cell_type": "code",
      "source": [
        "class Myconv2d(nn.Module):\n",
        "  def __init__(self, in_channels, out_channels, kernel_size, stride, bias, dilation):\n",
        "    super(Myconv2d, self).__init__()\n",
        "    self.stride = stride\n",
        "    self.kernel_size = kernel_size\n",
        "    self.kernel_height = kernel_size[0]\n",
        "    self.kernel_width = kernel_size[1]\n",
        "    self.in_channels = in_channels\n",
        "    self.out_channels = out_channels\n",
        "    self.height = self.kernel_height * dilation - 1\n",
        "    self.width = self.kernel_width * dilation - 1\n",
        "    self.bias = bias\n",
        "    self.dilation = dilation\n",
        "\n",
        "  def forward(self, x):\n",
        "    x_batch = x.size(0)\n",
        "    x_channel = x.size(1)\n",
        "    x_height = x.size(2)\n",
        "    x_width = x.size(3)\n",
        "    \n",
        "    y_height = int((x_height - self.height) / self.stride) + 1\n",
        "    y_width = int((x_width - self.width) / self.stride) + 1\n",
        "    y_channels = self.out_channels\n",
        "    y = torch.zeros((x_batch, y_channels, y_height, y_width))\n",
        "\n",
        "    kernel = torch.zeros((y_channels, x_channel, self.height, self.width))\n",
        "\n",
        "    for a in range(y_channels):\n",
        "      for b in range(x_channel):\n",
        "        for i in range(self.kernel_height):\n",
        "          for j in range(self.kernel_width):\n",
        "            kernel[a, b, i * self.dilation, j * self.dilation] = torch_kernel[a, b, i, j]\n",
        "    \n",
        "    for a in range(x_batch):\n",
        "      for b in range(y_channels):\n",
        "        for c in range(x_channel):\n",
        "          for i in range(y_height):\n",
        "            for j in range(y_width):\n",
        "              start_i = i * self.stride\n",
        "              start_j = j * self.stride\n",
        "              end_i = start_i + self.height\n",
        "              end_j = start_j + self.width\n",
        "              y[a, b, i, j] += (x[a, c, start_i:end_i, start_j:end_j] * kernel[b][c]).sum()\n",
        "    \n",
        "    for i in range(y_channels):\n",
        "      y[0][i] += torch_bias[i]\n",
        "\n",
        "    return y\n",
        "\n",
        "myconv2D = Myconv2d(in_channels = 3, out_channels = 6, \n",
        "                    kernel_size = (5 ,5), stride = 2, \n",
        "                    bias = torch_bias, dilation = 2)\n",
        "my_out = myconv2D(X)\n",
        "print(my_out)"
      ],
      "metadata": {
        "colab": {
          "base_uri": "https://localhost:8080/"
        },
        "outputId": "55babd16-66a2-4843-9cc2-2f750966c440",
        "id": "PYC54aRhIE9e"
      },
      "execution_count": null,
      "outputs": [
        {
          "output_type": "stream",
          "name": "stdout",
          "text": [
            "tensor([[[[ 5.2668e-01, -2.8034e-01,  3.6539e-01, -9.5675e-01,  5.9627e-01,\n",
            "           -6.9093e-01, -1.8938e+00,  1.4877e-02,  9.5674e-01,  2.7156e-01,\n",
            "           -1.6594e-01,  4.0911e-01],\n",
            "          [ 8.0104e-01,  8.0244e-02, -9.6878e-01, -7.2762e-01, -8.2155e-02,\n",
            "            7.3324e-02,  3.6484e-02, -1.7749e-01, -3.5964e-01, -2.1342e-01,\n",
            "            4.4991e-01,  1.4061e+00],\n",
            "          [ 3.9626e-01, -5.4469e-02, -1.1179e+00, -1.1882e-01,  6.8619e-01,\n",
            "            6.6385e-01, -2.7402e-01, -2.8063e-02,  3.7972e-01,  7.9659e-02,\n",
            "           -7.0091e-01, -5.9341e-01],\n",
            "          [-5.6028e-01,  1.3821e-02,  1.6670e-01,  3.4714e-01, -5.4297e-01,\n",
            "           -2.4029e-01,  7.1688e-02,  2.2235e-01, -5.1996e-02,  5.4929e-02,\n",
            "           -1.0152e-01,  1.1074e-01],\n",
            "          [-8.2180e-02,  5.7841e-01, -4.5866e-01, -4.0539e-01,  3.8999e-01,\n",
            "            6.2895e-01, -6.5914e-01, -6.7251e-01, -6.6775e-02, -1.0620e+00,\n",
            "           -7.3400e-01,  8.3110e-01],\n",
            "          [-8.8580e-02,  6.1221e-01,  6.2823e-01,  1.5260e-01,  9.9391e-02,\n",
            "           -6.9847e-02,  1.3427e+00, -1.6823e-01, -6.5290e-01,  1.4844e+00,\n",
            "            4.8224e-01, -1.5028e+00],\n",
            "          [ 9.0583e-02, -5.4196e-01, -2.9751e-02,  6.9730e-03, -3.7097e-01,\n",
            "            1.7954e-01, -2.7999e-01, -2.0221e+00, -7.3130e-01,  4.3415e-01,\n",
            "            1.5838e-02,  4.7961e-01],\n",
            "          [-2.0962e-01,  1.4861e-01, -2.4262e-01, -6.6216e-01, -2.7386e-01,\n",
            "           -9.4812e-01,  4.0645e-01,  6.8833e-01, -2.0368e-01, -6.8556e-01,\n",
            "            5.5921e-01, -8.9737e-01],\n",
            "          [ 8.9241e-01, -1.1534e+00, -1.4005e-01, -7.9724e-01,  5.4942e-01,\n",
            "           -6.4584e-01,  1.0048e-01, -5.9758e-02,  2.1264e-01, -4.2659e-01,\n",
            "           -3.2790e-01,  1.2604e+00],\n",
            "          [-8.3895e-01, -3.9687e-01,  5.5773e-01, -6.4778e-01,  4.3489e-01,\n",
            "            8.7459e-02, -9.1769e-01, -4.4165e-01,  3.0105e-02, -9.6220e-02,\n",
            "           -4.0597e-01,  6.4535e-01],\n",
            "          [ 2.1097e-01, -8.3484e-01, -3.9654e-01,  2.8495e-01, -1.2690e-01,\n",
            "           -6.8146e-01,  2.8180e-02, -9.6996e-02, -2.1370e-01,  8.3508e-01,\n",
            "            4.1527e-01, -5.0594e-01],\n",
            "          [-2.9673e-01,  4.1731e-02,  9.4543e-02, -2.0999e-01,  5.5581e-01,\n",
            "            3.9208e-01, -1.3792e-01, -7.5305e-01, -5.6692e-01, -5.7407e-01,\n",
            "            2.0688e-01,  1.8087e-01]],\n",
            "\n",
            "         [[-2.3370e-02,  1.3146e+00, -1.3574e+00,  1.7886e-01,  2.7021e-01,\n",
            "           -6.9486e-01, -2.9970e-01,  1.8769e-01,  4.9600e-02,  1.3316e-01,\n",
            "           -6.1771e-01,  3.9381e-01],\n",
            "          [ 2.4462e-01, -7.9272e-01, -2.2636e-01,  4.7794e-01,  6.1853e-02,\n",
            "            3.2460e-01, -6.2707e-01, -3.0660e-01,  8.8874e-01, -6.3611e-01,\n",
            "            1.0723e+00, -4.7635e-01],\n",
            "          [-5.8575e-01, -7.0032e-01,  5.2138e-01,  1.1836e-01,  4.1943e-01,\n",
            "           -7.7027e-02, -3.0615e-01,  5.7928e-02, -1.1650e-01, -8.8447e-01,\n",
            "           -1.4750e+00,  3.1253e-01],\n",
            "          [ 1.8395e-01, -1.2661e-01,  1.0944e+00,  8.9036e-03,  2.7910e-01,\n",
            "           -1.5288e-02, -4.4634e-01,  7.0557e-02,  3.8322e-01, -1.3085e+00,\n",
            "            3.3689e-01, -8.1264e-01],\n",
            "          [ 7.2587e-01, -9.1930e-02,  6.9984e-02,  1.3323e-01, -1.4233e-02,\n",
            "           -5.3286e-01,  7.2585e-01, -7.5345e-01, -6.2088e-01,  6.1999e-01,\n",
            "            1.0427e+00, -1.3094e-01],\n",
            "          [-2.8012e-03, -6.9790e-02, -4.1552e-01,  2.3524e-01, -2.5741e-01,\n",
            "            5.5490e-01, -2.3649e-02, -1.1622e+00, -7.6445e-01, -3.7307e-01,\n",
            "           -1.8996e-01,  5.1908e-01],\n",
            "          [ 3.1936e-01, -5.8436e-01,  2.2553e-01, -8.1079e-01, -3.8292e-02,\n",
            "            2.1260e-01, -1.0331e+00, -9.1937e-02,  1.8433e-01, -1.5849e-01,\n",
            "           -1.8981e-01,  8.8531e-01],\n",
            "          [-7.9583e-03, -4.3280e-01, -4.3231e-01, -8.9063e-01, -5.9560e-01,\n",
            "           -9.9479e-01, -4.3518e-01,  4.2061e-01, -7.0646e-02,  2.8232e-01,\n",
            "            9.2283e-01, -1.6727e-01],\n",
            "          [-9.5774e-01, -8.2675e-01,  1.0701e-01, -6.2092e-01, -4.4988e-01,\n",
            "           -2.6087e-01, -4.4929e-01,  1.7810e-01,  3.4161e-01, -5.6900e-01,\n",
            "            1.4839e+00,  4.2131e-01],\n",
            "          [-2.2102e-01, -9.9465e-01,  4.7703e-01,  2.9266e-01,  3.1631e-01,\n",
            "            5.9555e-01,  2.6393e-01, -9.4750e-01, -1.2215e+00,  1.7057e-01,\n",
            "            6.8654e-01, -7.7414e-01],\n",
            "          [-5.4199e-01, -7.0247e-01, -1.3121e-01, -5.0719e-01,  7.8126e-02,\n",
            "            5.1148e-01,  1.2725e+00, -1.2095e+00, -7.6812e-01,  7.0656e-02,\n",
            "           -5.9071e-01, -1.6295e-01],\n",
            "          [-6.3408e-01,  8.0255e-02, -1.0879e+00,  4.8499e-01,  1.0034e-01,\n",
            "            9.0519e-02,  1.8053e-01, -4.1960e-01, -6.0370e-01, -9.3486e-01,\n",
            "            3.1449e-01,  4.1604e-01]],\n",
            "\n",
            "         [[ 3.5760e-01, -3.4749e-02,  4.0809e-01, -4.3604e-01, -2.3620e-01,\n",
            "           -1.4253e+00, -3.1419e-01,  4.5581e-02, -7.6669e-02,  2.3929e-01,\n",
            "           -2.4067e-01, -6.5645e-01],\n",
            "          [ 6.3766e-01,  2.7725e-02, -2.7430e-01, -7.6548e-01, -6.0140e-01,\n",
            "           -4.3130e-01, -1.4307e+00, -3.7259e-01, -2.8828e-01,  1.0559e+00,\n",
            "           -4.9547e-01, -2.9099e-01],\n",
            "          [-3.1176e-01,  5.6978e-02, -4.3359e-01, -2.2239e-02, -3.0410e-01,\n",
            "            6.6674e-01, -1.4460e-01, -5.7132e-01, -7.2930e-02,  1.2313e+00,\n",
            "           -3.5974e-01, -4.2182e-01],\n",
            "          [-3.9770e-02,  1.9300e-01, -4.5621e-01, -1.0655e-02, -4.2721e-01,\n",
            "            2.8881e-01,  1.8569e-01,  4.8132e-01,  2.2668e+00,  5.1084e-01,\n",
            "            3.4251e-01, -2.9096e-03],\n",
            "          [-3.5312e-01,  5.1040e-01, -5.9459e-01,  2.1564e-01, -1.9535e-01,\n",
            "           -4.4265e-01,  2.2201e-01,  3.6926e-01, -3.0871e-01,  1.0794e-01,\n",
            "            1.0875e+00,  7.8481e-01],\n",
            "          [ 5.4581e-01,  1.0968e-01, -6.5960e-01, -4.6832e-02,  4.4832e-01,\n",
            "           -1.9670e-01, -5.3420e-01, -1.3574e-01, -5.6889e-02, -8.0926e-01,\n",
            "           -5.5091e-01,  1.7509e-01],\n",
            "          [ 1.6794e-01,  1.2710e+00,  2.4053e-01, -7.1498e-01, -1.3739e-01,\n",
            "            1.1700e+00, -4.6940e-01, -1.8142e+00, -3.2765e-02,  3.0354e-02,\n",
            "           -6.5529e-01, -1.1871e+00],\n",
            "          [ 5.3816e-01,  3.2153e-01,  2.2256e-01,  6.9072e-01, -5.5015e-01,\n",
            "           -5.4326e-01,  1.1726e+00, -1.0186e+00, -5.4647e-01,  5.5133e-01,\n",
            "            7.3356e-01, -6.8448e-01],\n",
            "          [ 9.9660e-01,  2.5299e-01, -4.8691e-02, -4.5655e-01,  1.3379e+00,\n",
            "           -7.0271e-01,  7.1578e-02,  2.8893e-01, -7.2129e-02, -1.2213e+00,\n",
            "            8.4512e-02,  7.6826e-01],\n",
            "          [ 7.7013e-01, -9.6202e-01,  5.4868e-01, -2.2149e-01,  1.1738e+00,\n",
            "            1.1737e-01, -1.1389e+00, -9.1129e-01, -5.6539e-01,  2.1115e-01,\n",
            "           -9.7084e-01,  5.5213e-01],\n",
            "          [ 9.9477e-01,  3.7991e-02, -4.7285e-01,  1.6520e-01,  4.9697e-01,\n",
            "           -7.2092e-01,  3.5788e-01, -3.9351e-01, -2.7762e-01,  2.8245e-01,\n",
            "           -4.0198e-01,  1.0800e-01],\n",
            "          [-1.2398e-01,  2.1442e-01, -3.7315e-01, -7.8435e-01, -4.3086e-02,\n",
            "           -2.0309e-01,  6.8785e-01, -8.0412e-02,  5.1179e-01,  4.9191e-01,\n",
            "            4.6354e-01,  1.7601e-02]],\n",
            "\n",
            "         [[-7.2562e-01,  8.3342e-01,  5.2042e-01, -1.8807e-01, -3.4434e-01,\n",
            "            3.8248e-01, -6.3782e-01,  3.1101e-01, -1.5634e-01,  9.6008e-02,\n",
            "           -4.6712e-02,  4.8203e-01],\n",
            "          [ 8.5332e-01, -1.9044e-01, -1.3409e-02,  2.4138e-01,  3.8092e-01,\n",
            "           -9.6980e-01, -1.1256e+00, -7.1196e-01, -5.8752e-02, -7.7582e-02,\n",
            "            1.7245e-01,  1.0444e+00],\n",
            "          [-4.6955e-01, -1.5574e-02,  3.0240e-01,  8.6598e-01,  2.3516e-01,\n",
            "           -1.9028e-01,  6.9846e-01,  2.6247e-03, -5.6315e-01, -1.1886e+00,\n",
            "            4.4978e-01,  8.5522e-01],\n",
            "          [ 1.7625e-01, -2.4874e-01,  3.5113e-01,  6.1394e-01,  4.6501e-01,\n",
            "           -1.8562e-01,  1.2859e+00,  1.5760e+00, -5.0529e-01, -4.1165e-01,\n",
            "            7.2105e-01,  6.7115e-01],\n",
            "          [-2.0839e-01,  3.5765e-01,  2.4951e-01, -8.6118e-01, -3.9916e-01,\n",
            "           -4.2761e-01, -5.4726e-01,  6.6246e-01, -4.4210e-01,  2.9191e-02,\n",
            "            5.5634e-01,  5.8149e-01],\n",
            "          [-2.1420e-01, -1.3035e-01, -3.4318e-01, -1.4694e-01, -4.0169e-01,\n",
            "            5.8235e-01,  4.6129e-01, -8.8549e-01, -3.7639e-01,  5.7014e-01,\n",
            "           -7.4602e-02, -3.1255e-01],\n",
            "          [-9.8680e-02, -2.0104e-01, -1.0752e-01,  2.6751e-01, -9.0379e-03,\n",
            "            9.2580e-01,  1.5372e+00,  5.5752e-01,  8.2208e-01,  5.6364e-01,\n",
            "            4.9836e-01,  3.4362e-01],\n",
            "          [-3.8207e-01,  1.5903e-01, -7.4030e-01, -1.3152e+00,  7.2625e-01,\n",
            "           -2.0143e-01,  4.0333e-02,  2.5613e-01,  4.8538e-02, -1.2006e+00,\n",
            "            3.8359e-01,  9.2428e-01],\n",
            "          [ 6.3275e-01, -7.1997e-01,  7.2269e-01, -1.6352e-01, -1.0058e+00,\n",
            "           -5.3709e-01, -3.1281e-01,  1.4753e-01,  3.6062e-01,  3.3463e-01,\n",
            "            4.3166e-01, -4.2452e-02],\n",
            "          [-2.1492e-01,  8.6214e-01,  2.5920e-01,  2.8348e-01,  3.4630e-01,\n",
            "           -5.2330e-01, -8.3877e-02,  6.7960e-01,  6.1313e-01, -4.7139e-01,\n",
            "            5.6598e-01, -7.8115e-01],\n",
            "          [-8.5008e-01,  2.5498e-01,  5.3212e-01,  3.3097e-01,  5.4631e-01,\n",
            "           -3.4980e-01,  1.0270e-01, -9.8453e-01,  2.2645e-02,  3.4240e-01,\n",
            "           -1.5249e-01,  9.4411e-02],\n",
            "          [-9.0398e-02,  8.4298e-01,  1.5647e-01,  3.0909e-01,  8.3158e-01,\n",
            "            3.5331e-01,  2.0964e-01, -1.1429e+00,  1.6930e-01, -3.1075e-02,\n",
            "           -7.2494e-01, -3.0109e-01]],\n",
            "\n",
            "         [[ 4.9070e-01, -3.4208e-01, -4.6529e-01,  4.6757e-01, -3.9129e-01,\n",
            "            8.1983e-01,  2.8223e-01, -1.4364e-03, -1.9461e-01,  1.0917e+00,\n",
            "           -2.4521e-01,  2.1552e-01],\n",
            "          [-2.1686e-01,  4.8941e-01, -2.0081e-01,  9.1774e-01, -6.3352e-01,\n",
            "            7.9779e-01, -1.3998e-01,  3.4825e-01, -3.6613e-01, -8.1331e-02,\n",
            "            3.5037e-01, -3.2003e-01],\n",
            "          [-1.2335e-01, -3.4006e-01,  1.8652e-01,  4.0614e-01, -9.9827e-01,\n",
            "           -2.7136e-01, -6.1196e-01, -4.9159e-01,  4.3579e-01,  2.3507e-01,\n",
            "            5.9604e-01, -3.3915e-01],\n",
            "          [-3.7498e-01, -9.5416e-01,  5.2758e-01,  1.3992e-01, -4.2957e-01,\n",
            "            3.4180e-01,  2.1814e-02, -1.0078e+00, -6.8788e-02, -4.8168e-01,\n",
            "            4.8170e-01, -7.6134e-01],\n",
            "          [ 1.1523e-01, -2.7426e-01,  8.2833e-01,  5.5066e-01,  2.8215e-01,\n",
            "            4.1594e-01,  1.8728e-01, -5.5714e-01,  6.1021e-01,  8.5508e-01,\n",
            "            9.6087e-02, -1.3956e-03],\n",
            "          [ 5.2480e-01, -2.5929e-02,  2.7885e-01,  5.8834e-01, -5.6799e-01,\n",
            "           -4.8851e-01, -1.0571e+00,  5.1872e-01, -8.8592e-03, -2.1169e-01,\n",
            "            7.8232e-01,  4.5046e-01],\n",
            "          [-5.8879e-02, -9.9705e-02,  2.9643e-02,  1.1442e-01, -7.6397e-01,\n",
            "           -1.6436e-01, -1.4009e+00, -1.3637e-01, -2.5663e-01, -1.6388e-01,\n",
            "           -3.8111e-01,  6.4687e-01],\n",
            "          [ 1.8559e-01,  2.9426e-01, -2.8391e-01,  3.9620e-01, -9.1620e-01,\n",
            "            3.4754e-01, -1.1424e-01,  1.8632e-01, -4.3845e-01, -3.0309e-01,\n",
            "            5.2341e-01, -1.0106e+00],\n",
            "          [-3.6163e-01,  6.2198e-02, -8.5795e-01, -8.6112e-01,  3.2998e-01,\n",
            "            5.4032e-02, -5.2226e-01,  5.4962e-02, -2.6021e-01, -5.5949e-01,\n",
            "            8.2044e-01,  5.5646e-02],\n",
            "          [ 1.7432e-01, -2.5311e-01,  1.3108e+00, -3.7405e-01,  3.8746e-01,\n",
            "           -6.2126e-01,  4.6867e-01,  1.3696e-01, -7.8344e-02,  8.7247e-01,\n",
            "            5.8015e-01, -3.7472e-02],\n",
            "          [ 8.2411e-01, -6.2823e-01,  2.6564e-01,  3.0909e-01,  5.9573e-01,\n",
            "            2.2407e-01,  1.8062e-01, -2.5017e-01, -5.1124e-01,  2.5260e-01,\n",
            "           -8.1283e-01,  1.7265e-01],\n",
            "          [ 5.1965e-01, -1.1205e+00, -1.9114e-01,  7.1294e-01,  2.8238e-01,\n",
            "           -9.0682e-02, -4.1293e-01, -5.9867e-01,  1.3938e-01,  7.6924e-03,\n",
            "           -1.0605e+00,  9.8847e-01]],\n",
            "\n",
            "         [[-3.3012e-02, -8.1985e-01,  5.6480e-01, -4.1703e-01,  8.5722e-01,\n",
            "            4.4567e-01, -4.0412e-01,  4.2290e-01, -1.6284e-01, -7.2535e-02,\n",
            "           -6.1738e-01, -7.4472e-01],\n",
            "          [-6.2588e-01,  3.9610e-01, -3.9202e-01, -6.9818e-02,  5.0423e-01,\n",
            "            2.5984e-01,  3.8979e-01,  4.9615e-01,  8.4511e-01,  8.1675e-01,\n",
            "           -1.1341e+00, -4.0437e-01],\n",
            "          [-5.7847e-01,  4.2967e-01,  8.4914e-01,  3.5494e-02, -4.5979e-01,\n",
            "            3.0602e-01,  7.1047e-01,  5.5819e-01, -9.1333e-01,  3.8375e-01,\n",
            "            2.1392e-01, -3.5753e-01],\n",
            "          [ 2.2761e-01,  1.2680e-01,  4.0742e-01, -3.9308e-01,  1.6682e-01,\n",
            "           -5.5639e-01, -4.7860e-01,  3.6624e-02, -1.1775e+00, -1.9080e-01,\n",
            "           -1.3779e+00,  4.8075e-01],\n",
            "          [-1.6022e+00,  1.0953e+00,  3.1359e-01, -7.1813e-01, -2.3441e-02,\n",
            "            6.0638e-01, -1.0128e+00, -5.8280e-01, -1.9352e-01,  6.1169e-01,\n",
            "           -1.2829e+00, -1.5439e+00],\n",
            "          [ 5.4788e-01,  7.4848e-02,  7.1321e-01, -2.3102e-01,  7.8038e-02,\n",
            "           -3.0364e-01,  7.7975e-01, -6.7099e-01, -6.6538e-01,  6.5282e-01,\n",
            "            4.7157e-01, -4.2027e-01],\n",
            "          [-1.3950e-01, -1.6057e-01,  3.6524e-01, -6.5858e-01, -7.9944e-01,\n",
            "           -9.7447e-01,  2.3286e-01,  1.1019e+00, -1.4969e-01,  1.6530e-02,\n",
            "           -4.0891e-02,  1.8333e-01],\n",
            "          [ 5.8524e-01,  1.7290e-01, -2.9581e-01, -3.1999e-01,  4.0939e-01,\n",
            "            1.4122e-01,  4.3628e-01,  5.1710e-01, -5.5443e-01,  2.6063e-02,\n",
            "           -3.5059e-01, -3.6859e-01],\n",
            "          [-7.8089e-01, -4.7199e-01,  1.2277e-01, -4.3739e-01,  3.3614e-01,\n",
            "            2.4444e-01,  2.4491e-01,  3.7256e-01, -3.6932e-01, -1.3984e-01,\n",
            "           -1.5704e-01,  3.8025e-01],\n",
            "          [-3.5490e-01,  3.7496e-01, -7.0350e-01,  6.8727e-02, -6.6874e-02,\n",
            "            2.5384e-01, -4.6486e-01, -1.4110e-01,  7.0207e-01,  3.2068e-01,\n",
            "           -3.0123e-01, -6.4047e-01],\n",
            "          [ 3.4566e-02,  1.6694e-01, -3.4618e-01, -3.8766e-01, -5.2797e-01,\n",
            "           -1.6981e-01,  1.8871e-01,  4.5927e-01,  7.1335e-01,  2.4186e-01,\n",
            "            8.5411e-03,  3.7986e-02],\n",
            "          [-7.9352e-01, -6.1376e-01,  4.0168e-01,  9.9990e-02,  5.0317e-01,\n",
            "           -1.1025e+00, -2.7315e-01,  6.9186e-01,  3.3660e-01, -1.4075e+00,\n",
            "           -1.2778e-01, -2.7576e-01]]]])\n"
          ]
        }
      ]
    },
    {
      "cell_type": "markdown",
      "source": [
        "## Comparision"
      ],
      "metadata": {
        "id": "SlFhBMXCIE9e"
      }
    },
    {
      "cell_type": "code",
      "source": [
        "print(torch.all(torch.abs(my_out - torch_out) <= 1e-6))"
      ],
      "metadata": {
        "colab": {
          "base_uri": "https://localhost:8080/"
        },
        "outputId": "9348f656-7841-48d3-c0cc-0e7f190de9f9",
        "id": "PsEYUt6UIE9e"
      },
      "execution_count": null,
      "outputs": [
        {
          "output_type": "stream",
          "name": "stdout",
          "text": [
            "tensor(True)\n"
          ]
        }
      ]
    },
    {
      "cell_type": "markdown",
      "source": [
        "# ConvTranspose2D"
      ],
      "metadata": {
        "id": "DNCZJu_erirL"
      }
    },
    {
      "cell_type": "markdown",
      "source": [
        "## Official ConvTranspose2D"
      ],
      "metadata": {
        "id": "yhmGB37prirQ"
      }
    },
    {
      "cell_type": "code",
      "source": [
        "convtrans2d = torch.nn.ConvTranspose2d(in_channels=3, out_channels=4, \n",
        "                                       kernel_size=3, stride=1, \n",
        "                                       padding=0, output_padding=0, \n",
        "                                       groups=1, bias=True, dilation=1, \n",
        "                                       padding_mode='zeros')\n",
        "torch_out = convtrans2d(X)\n",
        "torch_kernel = convtrans2d.weight.data\n",
        "torch_bias = convtrans2d.bias.data\n",
        "print(torch_out)"
      ],
      "metadata": {
        "colab": {
          "base_uri": "https://localhost:8080/"
        },
        "outputId": "cf536e28-46a7-4964-f063-ca6e85621e6f",
        "id": "2z679cfQrirQ"
      },
      "execution_count": null,
      "outputs": [
        {
          "output_type": "stream",
          "name": "stdout",
          "text": [
            "tensor([[[[-0.1875, -0.0580,  0.2780,  ..., -0.2500,  0.0985, -0.0951],\n",
            "          [-0.2115, -0.0117, -0.2752,  ..., -0.5434, -0.5616, -0.2735],\n",
            "          [-0.0766,  0.0404, -0.6098,  ..., -0.1139,  0.2423, -0.3693],\n",
            "          ...,\n",
            "          [-0.1570, -0.2066, -0.7593,  ..., -0.3439,  0.8440,  0.4111],\n",
            "          [-0.0271, -0.1189, -0.7089,  ...,  0.2109,  0.3280, -0.3835],\n",
            "          [-0.1119, -0.2132, -0.1884,  ..., -0.0097, -0.4290, -0.1717]],\n",
            "\n",
            "         [[-0.2105, -0.1217,  0.1712,  ...,  0.0183, -0.2574, -0.0884],\n",
            "          [-0.1386, -0.5646, -0.5502,  ..., -1.1563, -0.1516, -0.0799],\n",
            "          [-0.0122, -0.1734, -0.9958,  ..., -0.2760, -0.8973, -0.5357],\n",
            "          ...,\n",
            "          [-0.1541,  0.2139, -0.2086,  ..., -0.6752, -0.4611,  0.2464],\n",
            "          [-0.0919, -0.0493, -0.6416,  ..., -0.4578, -0.0297, -0.1538],\n",
            "          [-0.1870, -0.3023, -0.0679,  ...,  0.1854, -0.3305, -0.3510]],\n",
            "\n",
            "         [[ 0.0181,  0.0500, -0.3610,  ...,  0.2988, -0.1103,  0.0050],\n",
            "          [ 0.1903,  0.0180,  0.9106,  ...,  0.2154,  1.1283, -0.0697],\n",
            "          [ 0.3649, -0.2879,  0.1406,  ...,  0.5096,  0.2509,  0.6320],\n",
            "          ...,\n",
            "          [ 0.0252,  0.1041,  0.6314,  ...,  0.5298, -0.1228,  0.1238],\n",
            "          [-0.1242,  0.0598,  0.3295,  ...,  0.2146,  0.1959, -0.2983],\n",
            "          [ 0.0451,  0.1678, -0.2686,  ..., -0.0656, -0.1142,  0.2186]],\n",
            "\n",
            "         [[ 0.0333,  0.2137,  0.8363,  ..., -0.0378,  0.7009,  0.0674],\n",
            "          [ 0.0820, -0.3325, -0.8054,  ..., -0.4530, -0.1439,  0.1244],\n",
            "          [ 0.5756,  0.5159,  0.5954,  ...,  0.5322, -0.8594,  0.2698],\n",
            "          ...,\n",
            "          [ 0.2399,  0.0047,  0.4022,  ...,  0.3833,  0.3857, -0.4625],\n",
            "          [ 0.1380, -0.2211,  0.2101,  ...,  0.5746,  0.0447,  0.2721],\n",
            "          [ 0.1678,  0.1199,  0.2110,  ...,  0.2067,  0.0334,  0.1855]]]],\n",
            "       grad_fn=<SlowConvTranspose2DBackward0>)\n"
          ]
        }
      ]
    },
    {
      "cell_type": "markdown",
      "source": [
        "## My ConvTranspose2D"
      ],
      "metadata": {
        "id": "ZryUaBtRrirQ"
      }
    },
    {
      "cell_type": "code",
      "source": [
        "class Myconvtrans2d(nn.Module):\n",
        "  def __init__(self, in_channels, out_channels, kernel_size, stride, bias, dilation):\n",
        "    super(Myconvtrans2d, self).__init__()\n",
        "    self.stride = stride\n",
        "    self.kernel_size = kernel_size\n",
        "    self.kernel_height = kernel_size[0]\n",
        "    self.kernel_width = kernel_size[1]\n",
        "    self.in_channels = in_channels\n",
        "    self.out_channels = out_channels\n",
        "    self.bias = bias\n",
        "    self.dilation = dilation\n",
        "\n",
        "  def forward(self, x):\n",
        "    x_batch = x.size(0)\n",
        "    x_channel = x.size(1)\n",
        "    x_height = x.size(2)\n",
        "    x_width = x.size(3)\n",
        "    \n",
        "    y_height = (x_height + self.kernel_height) - 1\n",
        "    y_width = (x_width + self.kernel_width) - 1\n",
        "    y_channels = self.out_channels\n",
        "    y = torch.zeros((x_batch, y_channels, y_height, y_width))\n",
        "    \n",
        "    for a in range(x_batch):\n",
        "      for b in range(y_channels):\n",
        "        for c in range(x_channel):\n",
        "          for i in range(x_height):\n",
        "            for j in range(x_width):\n",
        "              y[a, b, i:i + self.kernel_height, j:j + self.kernel_width] += x[a, c, i, j] * torch_kernel[c][b]\n",
        "    \n",
        "    for i in range(y_channels):\n",
        "      y[0][i] += torch_bias[i]\n",
        "\n",
        "    return y\n",
        "\n",
        "myconv2D = Myconvtrans2d(in_channels=3, out_channels=4, \n",
        "                         kernel_size=(3, 3), stride=1, \n",
        "                         bias=torch_bias, dilation=1)\n",
        "my_out = myconv2D(X)\n",
        "print(my_out)"
      ],
      "metadata": {
        "colab": {
          "base_uri": "https://localhost:8080/"
        },
        "outputId": "22cda44a-980d-4658-fbad-b78043c3bc3d",
        "id": "Dt8z_0fgrirQ"
      },
      "execution_count": null,
      "outputs": [
        {
          "output_type": "stream",
          "name": "stdout",
          "text": [
            "tensor([[[[-0.1875, -0.0580,  0.2780,  ..., -0.2500,  0.0985, -0.0951],\n",
            "          [-0.2115, -0.0117, -0.2752,  ..., -0.5434, -0.5616, -0.2735],\n",
            "          [-0.0766,  0.0404, -0.6098,  ..., -0.1139,  0.2423, -0.3693],\n",
            "          ...,\n",
            "          [-0.1570, -0.2066, -0.7593,  ..., -0.3439,  0.8440,  0.4111],\n",
            "          [-0.0271, -0.1189, -0.7089,  ...,  0.2109,  0.3280, -0.3835],\n",
            "          [-0.1119, -0.2132, -0.1884,  ..., -0.0097, -0.4290, -0.1717]],\n",
            "\n",
            "         [[-0.2105, -0.1217,  0.1712,  ...,  0.0183, -0.2574, -0.0884],\n",
            "          [-0.1386, -0.5646, -0.5502,  ..., -1.1563, -0.1516, -0.0799],\n",
            "          [-0.0122, -0.1734, -0.9958,  ..., -0.2760, -0.8973, -0.5357],\n",
            "          ...,\n",
            "          [-0.1541,  0.2139, -0.2086,  ..., -0.6752, -0.4611,  0.2464],\n",
            "          [-0.0919, -0.0493, -0.6416,  ..., -0.4578, -0.0297, -0.1538],\n",
            "          [-0.1870, -0.3023, -0.0679,  ...,  0.1854, -0.3305, -0.3510]],\n",
            "\n",
            "         [[ 0.0181,  0.0500, -0.3610,  ...,  0.2988, -0.1103,  0.0050],\n",
            "          [ 0.1903,  0.0180,  0.9106,  ...,  0.2154,  1.1283, -0.0697],\n",
            "          [ 0.3649, -0.2879,  0.1406,  ...,  0.5096,  0.2509,  0.6320],\n",
            "          ...,\n",
            "          [ 0.0252,  0.1041,  0.6314,  ...,  0.5298, -0.1228,  0.1238],\n",
            "          [-0.1242,  0.0598,  0.3295,  ...,  0.2146,  0.1959, -0.2983],\n",
            "          [ 0.0451,  0.1678, -0.2686,  ..., -0.0656, -0.1142,  0.2186]],\n",
            "\n",
            "         [[ 0.0333,  0.2137,  0.8363,  ..., -0.0378,  0.7009,  0.0674],\n",
            "          [ 0.0820, -0.3325, -0.8054,  ..., -0.4530, -0.1439,  0.1244],\n",
            "          [ 0.5756,  0.5159,  0.5954,  ...,  0.5322, -0.8594,  0.2698],\n",
            "          ...,\n",
            "          [ 0.2399,  0.0047,  0.4022,  ...,  0.3833,  0.3857, -0.4625],\n",
            "          [ 0.1380, -0.2211,  0.2101,  ...,  0.5746,  0.0447,  0.2721],\n",
            "          [ 0.1678,  0.1199,  0.2110,  ...,  0.2067,  0.0334,  0.1855]]]])\n"
          ]
        }
      ]
    },
    {
      "cell_type": "markdown",
      "source": [
        "## Comparision"
      ],
      "metadata": {
        "id": "uEWl5yWbrirQ"
      }
    },
    {
      "cell_type": "code",
      "source": [
        "print(torch.all(torch.abs(my_out - torch_out) <= 1e-6))"
      ],
      "metadata": {
        "colab": {
          "base_uri": "https://localhost:8080/"
        },
        "outputId": "b9e531a9-ea9d-44c0-e461-6f4c90d9961a",
        "id": "WQTIwnqIrirR"
      },
      "execution_count": null,
      "outputs": [
        {
          "output_type": "stream",
          "name": "stdout",
          "text": [
            "tensor(True)\n"
          ]
        }
      ]
    },
    {
      "cell_type": "markdown",
      "source": [
        "# Flatten"
      ],
      "metadata": {
        "id": "9ZG3hu4b92XD"
      }
    },
    {
      "cell_type": "markdown",
      "source": [
        "## Official Flatten"
      ],
      "metadata": {
        "id": "6IYYmDtj92XI"
      }
    },
    {
      "cell_type": "code",
      "source": [
        "torch_out = torch.flatten(X, start_dim=0, end_dim=-1)\n",
        "print(torch_out)"
      ],
      "metadata": {
        "colab": {
          "base_uri": "https://localhost:8080/"
        },
        "outputId": "7f783798-1e5a-404f-c5ce-5b5bf1c784e8",
        "id": "YnD5r1Bu92XI"
      },
      "execution_count": null,
      "outputs": [
        {
          "output_type": "stream",
          "name": "stdout",
          "text": [
            "tensor([-0.0932, -1.4640, -2.2604,  ..., -0.4049, -0.9580,  1.1780])\n"
          ]
        }
      ]
    },
    {
      "cell_type": "markdown",
      "source": [
        "## My Flatten"
      ],
      "metadata": {
        "id": "XI7JS1aN92XI"
      }
    },
    {
      "cell_type": "code",
      "source": [
        "def myflatten(X, start_dim, end_dim):\n",
        "    shape = list(X.numpy().shape)\n",
        "    if end_dim < 0:\n",
        "        end_dim += len(shape)\n",
        "    buffer = 1\n",
        "    for i in range(start_dim, end_dim + 1):\n",
        "        buffer *= shape[i]\n",
        "    for j in range(end_dim, start_dim, -1):\n",
        "        shape.pop(j)\n",
        "    shape[start_dim] = buffer\n",
        "    return X.reshape(shape)\n",
        "  \n",
        "my_out = myflatten(X, 0, -1)\n",
        "print(my_out)"
      ],
      "metadata": {
        "colab": {
          "base_uri": "https://localhost:8080/"
        },
        "outputId": "67a3ebad-d0b9-4c01-8be6-bbe4b74f5504",
        "id": "HDZLuSt292XI"
      },
      "execution_count": null,
      "outputs": [
        {
          "output_type": "stream",
          "name": "stdout",
          "text": [
            "tensor([-0.0932, -1.4640, -2.2604,  ..., -0.4049, -0.9580,  1.1780])\n"
          ]
        }
      ]
    },
    {
      "cell_type": "markdown",
      "source": [
        "## Comparision"
      ],
      "metadata": {
        "id": "eMoaAQFc92XJ"
      }
    },
    {
      "cell_type": "code",
      "source": [
        "print(torch.all(torch.abs(my_out - torch_out) <= 1e-6))"
      ],
      "metadata": {
        "colab": {
          "base_uri": "https://localhost:8080/"
        },
        "outputId": "cfa29ebc-645c-4479-8394-0c43226c1d6b",
        "id": "XWF4gmGF92XJ"
      },
      "execution_count": null,
      "outputs": [
        {
          "output_type": "stream",
          "name": "stdout",
          "text": [
            "tensor(True)\n"
          ]
        }
      ]
    },
    {
      "cell_type": "markdown",
      "source": [
        "# Sigmoid"
      ],
      "metadata": {
        "id": "2yzhYBVHVhGq"
      }
    },
    {
      "cell_type": "markdown",
      "source": [
        "## Official Sigmoid"
      ],
      "metadata": {
        "id": "2kBJfURiVhGz"
      }
    },
    {
      "cell_type": "code",
      "source": [
        "torch_out = torch.sigmoid(X, out=None)\n",
        "print(torch_out)"
      ],
      "metadata": {
        "colab": {
          "base_uri": "https://localhost:8080/"
        },
        "outputId": "6506af89-553c-4ac4-a60a-71b7684c5c73",
        "id": "x2s21EVtVhGz"
      },
      "execution_count": null,
      "outputs": [
        {
          "output_type": "stream",
          "name": "stdout",
          "text": [
            "tensor([[[[0.4767, 0.1879, 0.0945,  ..., 0.4319, 0.4456, 0.4842],\n",
            "          [0.5186, 0.6283, 0.8352,  ..., 0.5613, 0.9524, 0.5087],\n",
            "          [0.5590, 0.5851, 0.6056,  ..., 0.3788, 0.4253, 0.7033],\n",
            "          ...,\n",
            "          [0.6542, 0.5331, 0.7763,  ..., 0.4569, 0.2806, 0.6305],\n",
            "          [0.5640, 0.4125, 0.3224,  ..., 0.6854, 0.5126, 0.6487],\n",
            "          [0.5469, 0.1639, 0.4817,  ..., 0.6223, 0.4081, 0.3370]],\n",
            "\n",
            "         [[0.6824, 0.2114, 0.0816,  ..., 0.8791, 0.2863, 0.3020],\n",
            "          [0.7344, 0.6660, 0.5224,  ..., 0.2832, 0.7792, 0.9037],\n",
            "          [0.1641, 0.6290, 0.6571,  ..., 0.4519, 0.6078, 0.8421],\n",
            "          ...,\n",
            "          [0.8328, 0.5957, 0.5615,  ..., 0.4777, 0.3335, 0.1342],\n",
            "          [0.7935, 0.8015, 0.8633,  ..., 0.8271, 0.2693, 0.5342],\n",
            "          [0.6357, 0.5046, 0.7394,  ..., 0.2007, 0.7148, 0.6384]],\n",
            "\n",
            "         [[0.4122, 0.4885, 0.2943,  ..., 0.5777, 0.1094, 0.6582],\n",
            "          [0.6610, 0.2323, 0.6465,  ..., 0.5397, 0.3405, 0.4767],\n",
            "          [0.8468, 0.6376, 0.6862,  ..., 0.1287, 0.2726, 0.3214],\n",
            "          ...,\n",
            "          [0.3780, 0.6428, 0.3064,  ..., 0.2373, 0.4141, 0.3439],\n",
            "          [0.6669, 0.7248, 0.3970,  ..., 0.4672, 0.1600, 0.1099],\n",
            "          [0.4431, 0.5991, 0.8923,  ..., 0.4001, 0.2773, 0.7646]]]])\n"
          ]
        }
      ]
    },
    {
      "cell_type": "markdown",
      "source": [
        "## My Sigmoid"
      ],
      "metadata": {
        "id": "yb2RX8vCVhG0"
      }
    },
    {
      "cell_type": "code",
      "source": [
        "def mysigmoid(X):\n",
        "    return 1 / (1 + torch.exp(-X))\n",
        "  \n",
        "my_out = mysigmoid(X)\n",
        "print(my_out)"
      ],
      "metadata": {
        "colab": {
          "base_uri": "https://localhost:8080/"
        },
        "outputId": "69532979-dca2-48e8-c0bd-04ed2b0ce850",
        "id": "_wJU4bhOVhG0"
      },
      "execution_count": null,
      "outputs": [
        {
          "output_type": "stream",
          "name": "stdout",
          "text": [
            "tensor([[[[0.4767, 0.1879, 0.0945,  ..., 0.4319, 0.4456, 0.4842],\n",
            "          [0.5186, 0.6283, 0.8352,  ..., 0.5613, 0.9524, 0.5087],\n",
            "          [0.5590, 0.5851, 0.6056,  ..., 0.3788, 0.4253, 0.7033],\n",
            "          ...,\n",
            "          [0.6542, 0.5331, 0.7763,  ..., 0.4569, 0.2806, 0.6305],\n",
            "          [0.5640, 0.4125, 0.3224,  ..., 0.6854, 0.5126, 0.6487],\n",
            "          [0.5469, 0.1639, 0.4817,  ..., 0.6223, 0.4081, 0.3370]],\n",
            "\n",
            "         [[0.6824, 0.2114, 0.0816,  ..., 0.8791, 0.2863, 0.3020],\n",
            "          [0.7344, 0.6660, 0.5224,  ..., 0.2832, 0.7792, 0.9037],\n",
            "          [0.1641, 0.6290, 0.6571,  ..., 0.4519, 0.6078, 0.8421],\n",
            "          ...,\n",
            "          [0.8328, 0.5957, 0.5615,  ..., 0.4777, 0.3335, 0.1342],\n",
            "          [0.7935, 0.8015, 0.8633,  ..., 0.8271, 0.2693, 0.5342],\n",
            "          [0.6357, 0.5046, 0.7394,  ..., 0.2007, 0.7148, 0.6384]],\n",
            "\n",
            "         [[0.4122, 0.4885, 0.2943,  ..., 0.5777, 0.1094, 0.6582],\n",
            "          [0.6610, 0.2323, 0.6465,  ..., 0.5397, 0.3405, 0.4767],\n",
            "          [0.8468, 0.6376, 0.6862,  ..., 0.1287, 0.2726, 0.3214],\n",
            "          ...,\n",
            "          [0.3780, 0.6428, 0.3064,  ..., 0.2373, 0.4141, 0.3439],\n",
            "          [0.6669, 0.7248, 0.3970,  ..., 0.4672, 0.1600, 0.1099],\n",
            "          [0.4431, 0.5991, 0.8923,  ..., 0.4001, 0.2773, 0.7646]]]])\n"
          ]
        }
      ]
    },
    {
      "cell_type": "markdown",
      "source": [
        "## Comparision"
      ],
      "metadata": {
        "id": "_AiiL5tVVhG0"
      }
    },
    {
      "cell_type": "code",
      "source": [
        "print(torch.all(torch.abs(my_out - torch_out) <= 1e-6))"
      ],
      "metadata": {
        "colab": {
          "base_uri": "https://localhost:8080/"
        },
        "outputId": "6c011d8d-8f24-4e97-d430-1a529251b77f",
        "id": "NLkEVTLBVhG0"
      },
      "execution_count": null,
      "outputs": [
        {
          "output_type": "stream",
          "name": "stdout",
          "text": [
            "tensor(True)\n"
          ]
        }
      ]
    },
    {
      "cell_type": "markdown",
      "source": [
        "# Roi_pool"
      ],
      "metadata": {
        "id": "-Tg56-FIWIB6"
      }
    },
    {
      "cell_type": "markdown",
      "source": [
        "## Official Roi_pool"
      ],
      "metadata": {
        "id": "VS87BejlWIB_"
      }
    },
    {
      "cell_type": "code",
      "source": [
        "randomlist = [[0, 0, 0]]\n",
        "for i in range(0,2):\n",
        "  n = random.randint(1, 30)\n",
        "  randomlist[0].append(n)\n",
        "\n",
        "boxes = torch.Tensor([[0, 0, 0, 15, 15]])\n",
        "\n",
        "torch_out = torchvision.ops.roi_pool(X, boxes, (3, 3))\n",
        "print(torch_out)"
      ],
      "metadata": {
        "colab": {
          "base_uri": "https://localhost:8080/"
        },
        "id": "hFD2pYulXg1y",
        "outputId": "63fa5be4-4e24-4c26-c007-35d1d71771a3"
      },
      "execution_count": null,
      "outputs": [
        {
          "output_type": "stream",
          "name": "stdout",
          "text": [
            "tensor([[[[1.6231, 1.8283, 2.2786],\n",
            "          [1.5612, 1.7718, 1.8036],\n",
            "          [1.8682, 1.2997, 1.6714]],\n",
            "\n",
            "         [[2.2861, 3.3519, 1.9083],\n",
            "          [2.2861, 2.0552, 1.7437],\n",
            "          [2.0552, 2.1926, 1.7490]],\n",
            "\n",
            "         [[1.7094, 3.1209, 2.1854],\n",
            "          [1.9843, 3.1209, 2.1854],\n",
            "          [1.9471, 1.2446, 2.0326]]]])\n"
          ]
        }
      ]
    },
    {
      "cell_type": "markdown",
      "source": [
        "## My Roi_pool"
      ],
      "metadata": {
        "id": "31UaZCkQWICA"
      }
    },
    {
      "cell_type": "code",
      "source": [
        "def my_roi_pool(X, boxes, output_size):\n",
        "    \n",
        "    roi_start_height = int(boxes[0][1])\n",
        "    roi_start_width = int(boxes[0][2])\n",
        "    roi_end_height = int(boxes[0][3])\n",
        "    roi_end_width = int(boxes[0][4])\n",
        "    \n",
        "    roi_width = roi_end_width - roi_start_width + 1\n",
        "    roi_height = roi_end_height - roi_start_height + 1\n",
        "\n",
        "    bin_width = roi_width / output_size[0]\n",
        "    bin_height = roi_height / output_size[1]\n",
        "    \n",
        "    result = []\n",
        "    for i in range(X.shape[1]):\n",
        "      tmp = []\n",
        "      for j in range(output_size[0]):\n",
        "        r = []\n",
        "        for k in range(output_size[1]):\n",
        "          temp = X[..., int(roi_start_height + bin_height * j):math.ceil(roi_start_height + bin_height * (j + 1)), \n",
        "                   int(roi_start_width + bin_width * k):math.ceil(roi_start_width + bin_width * (k + 1))][0][i]\n",
        "          r.append(temp.max())\n",
        "        tmp.append(r)\n",
        "      result.append(tmp)\n",
        "\n",
        "    result = torch.Tensor(result)\n",
        "    result = result.unsqueeze(0)\n",
        "    return result\n",
        "  \n",
        "my_out = my_roi_pool(X, boxes, (3, 3))\n",
        "print(my_out)"
      ],
      "metadata": {
        "colab": {
          "base_uri": "https://localhost:8080/"
        },
        "outputId": "bbda7b53-2f61-4666-b703-37d12de8b1da",
        "id": "bTwko6-dWICA"
      },
      "execution_count": null,
      "outputs": [
        {
          "output_type": "stream",
          "name": "stdout",
          "text": [
            "tensor([[[[1.6231, 1.8283, 2.2786],\n",
            "          [1.5612, 1.7718, 1.8036],\n",
            "          [1.8682, 1.2997, 1.6714]],\n",
            "\n",
            "         [[2.2861, 3.3519, 1.9083],\n",
            "          [2.2861, 2.0552, 1.7437],\n",
            "          [2.0552, 2.1926, 1.7490]],\n",
            "\n",
            "         [[1.7094, 3.1209, 2.1854],\n",
            "          [1.9843, 3.1209, 2.1854],\n",
            "          [1.9471, 1.2446, 2.0326]]]])\n"
          ]
        }
      ]
    },
    {
      "cell_type": "markdown",
      "source": [
        "## Comparision"
      ],
      "metadata": {
        "id": "gXMYcdOQWICA"
      }
    },
    {
      "cell_type": "code",
      "source": [
        "print(torch.all(torch.abs(my_out - torch_out) <= 1e-6))"
      ],
      "metadata": {
        "colab": {
          "base_uri": "https://localhost:8080/"
        },
        "outputId": "a056c95d-4e03-405f-9956-b99f3af5504b",
        "id": "gS6vQsf9WICA"
      },
      "execution_count": null,
      "outputs": [
        {
          "output_type": "stream",
          "name": "stdout",
          "text": [
            "tensor(True)\n"
          ]
        }
      ]
    },
    {
      "cell_type": "markdown",
      "source": [
        "# Batch_norm"
      ],
      "metadata": {
        "id": "vBI8Rht7f3P6"
      }
    },
    {
      "cell_type": "markdown",
      "source": [
        "## Official Batch_norm"
      ],
      "metadata": {
        "id": "pXflSXhWf3P_"
      }
    },
    {
      "cell_type": "code",
      "source": [
        "mean = torch.Tensor(3, )\n",
        "var = torch.Tensor(3, )\n",
        "for i in range(3):\n",
        "  mean[i] = X[0][i].mean()\n",
        "  var[i] = X[0][i].var()\n",
        "\n",
        "torch_out = torch.nn.functional.batch_norm(X, mean, var, weight=None, bias=None, training=False, momentum=0.1, eps=1e-05)\n",
        "print(torch_out)"
      ],
      "metadata": {
        "colab": {
          "base_uri": "https://localhost:8080/"
        },
        "outputId": "171a9d34-8219-465d-8d55-39c947e1cb54",
        "id": "Sl4PHKY6f3P_"
      },
      "execution_count": null,
      "outputs": [
        {
          "output_type": "stream",
          "name": "stdout",
          "text": [
            "tensor([[[[-0.1179, -1.5527, -2.3862,  ..., -0.3071, -0.2490, -0.0865],\n",
            "          [ 0.0577,  0.5289,  1.6784,  ...,  0.2378,  3.1145,  0.0159],\n",
            "          [ 0.2278,  0.3393,  0.4287,  ..., -0.5383, -0.3354,  0.8829],\n",
            "          ...,\n",
            "          [ 0.6471,  0.1185,  1.2822,  ..., -0.2012, -1.0059,  0.5390],\n",
            "          [ 0.2489, -0.3907, -0.7979,  ...,  0.7947,  0.0323,  0.6215],\n",
            "          [ 0.1764, -1.7258, -0.0969,  ...,  0.5023, -0.4094, -0.7286]],\n",
            "\n",
            "         [[ 0.7280, -1.3580, -2.4647,  ...,  1.9497, -0.9537, -0.8779],\n",
            "          [ 0.9807,  0.6531,  0.0513,  ..., -0.9690,  1.2254,  2.2051],\n",
            "          [-1.6697,  0.4907,  0.6134,  ..., -0.2317,  0.4008,  1.6394],\n",
            "          ...,\n",
            "          [ 1.5705,  0.3499,  0.2094,  ..., -0.1278, -0.7322, -1.9066],\n",
            "          [ 1.3105,  1.3603,  1.8083,  ...,  1.5301, -1.0388,  0.0991],\n",
            "          [ 0.5195, -0.0198,  1.0067,  ..., -1.4232,  0.8824,  0.5312]],\n",
            "\n",
            "         [[-0.3581, -0.0461, -0.8834,  ...,  0.3172, -2.1188,  0.6626],\n",
            "          [ 0.6753, -1.2079,  0.6106,  ...,  0.1612, -0.6675, -0.0938],\n",
            "          [ 1.7280,  0.5713,  0.7914,  ..., -1.9322, -0.9915, -0.7549],\n",
            "          ...,\n",
            "          [-0.5028,  0.5942, -0.8253,  ..., -1.1794, -0.3503, -0.6526],\n",
            "          [ 0.7022,  0.9793, -0.4222,  ..., -0.1322, -1.6751, -2.1137],\n",
            "          [-0.2304,  0.4066,  2.1374,  ..., -0.4088, -0.9677,  1.1910]]]])\n"
          ]
        }
      ]
    },
    {
      "cell_type": "markdown",
      "source": [
        "## My Batch_norm"
      ],
      "metadata": {
        "id": "wK4TiAztf3P_"
      }
    },
    {
      "cell_type": "code",
      "source": [
        "def my_batch_norm(input, running_mean, running_var, momentum, eps):\n",
        "    mean, var = running_mean[:, None, None], running_var[:, None, None]\n",
        "    return (input - mean) / torch.sqrt(var + eps)\n",
        "  \n",
        "my_out = my_batch_norm(X, mean, var, 0.1, 1e-05)\n",
        "print(my_out)"
      ],
      "metadata": {
        "colab": {
          "base_uri": "https://localhost:8080/"
        },
        "outputId": "660982f2-2f3d-4565-89bc-0e317e17d8fd",
        "id": "QkZTL_kjf3P_"
      },
      "execution_count": null,
      "outputs": [
        {
          "output_type": "stream",
          "name": "stdout",
          "text": [
            "tensor([[[[-0.1179, -1.5527, -2.3862,  ..., -0.3071, -0.2490, -0.0865],\n",
            "          [ 0.0577,  0.5289,  1.6784,  ...,  0.2378,  3.1145,  0.0159],\n",
            "          [ 0.2278,  0.3393,  0.4287,  ..., -0.5383, -0.3354,  0.8829],\n",
            "          ...,\n",
            "          [ 0.6471,  0.1185,  1.2822,  ..., -0.2012, -1.0059,  0.5390],\n",
            "          [ 0.2489, -0.3907, -0.7979,  ...,  0.7947,  0.0323,  0.6215],\n",
            "          [ 0.1764, -1.7258, -0.0969,  ...,  0.5023, -0.4094, -0.7286]],\n",
            "\n",
            "         [[ 0.7280, -1.3580, -2.4647,  ...,  1.9497, -0.9537, -0.8779],\n",
            "          [ 0.9807,  0.6531,  0.0513,  ..., -0.9690,  1.2254,  2.2051],\n",
            "          [-1.6697,  0.4907,  0.6134,  ..., -0.2317,  0.4008,  1.6394],\n",
            "          ...,\n",
            "          [ 1.5705,  0.3499,  0.2094,  ..., -0.1278, -0.7322, -1.9066],\n",
            "          [ 1.3105,  1.3603,  1.8083,  ...,  1.5301, -1.0388,  0.0991],\n",
            "          [ 0.5195, -0.0198,  1.0067,  ..., -1.4232,  0.8824,  0.5312]],\n",
            "\n",
            "         [[-0.3581, -0.0461, -0.8834,  ...,  0.3172, -2.1188,  0.6626],\n",
            "          [ 0.6753, -1.2079,  0.6106,  ...,  0.1612, -0.6675, -0.0938],\n",
            "          [ 1.7280,  0.5713,  0.7914,  ..., -1.9322, -0.9915, -0.7549],\n",
            "          ...,\n",
            "          [-0.5028,  0.5942, -0.8253,  ..., -1.1794, -0.3503, -0.6526],\n",
            "          [ 0.7022,  0.9793, -0.4222,  ..., -0.1322, -1.6751, -2.1137],\n",
            "          [-0.2304,  0.4066,  2.1374,  ..., -0.4088, -0.9677,  1.1910]]]])\n"
          ]
        }
      ]
    },
    {
      "cell_type": "markdown",
      "source": [
        "## Comparision"
      ],
      "metadata": {
        "id": "pF5Bnay-f3P_"
      }
    },
    {
      "cell_type": "code",
      "source": [
        "print(torch.all(torch.abs(my_out - torch_out) <= 1e-6))"
      ],
      "metadata": {
        "colab": {
          "base_uri": "https://localhost:8080/"
        },
        "outputId": "9b29cfc8-f92d-4ed9-cef2-ce00187b13a0",
        "id": "z-WrGY3Zf3P_"
      },
      "execution_count": null,
      "outputs": [
        {
          "output_type": "stream",
          "name": "stdout",
          "text": [
            "tensor(True)\n"
          ]
        }
      ]
    },
    {
      "cell_type": "markdown",
      "source": [
        "# Cross_entropy"
      ],
      "metadata": {
        "id": "zbsrQYJMhIbF"
      }
    },
    {
      "cell_type": "markdown",
      "source": [
        "## Official Cross_entropy"
      ],
      "metadata": {
        "id": "fdbBEUS5hIbN"
      }
    },
    {
      "cell_type": "code",
      "source": [
        "torch_out = torch.nn.functional.cross_entropy(X, y, weight=None, size_average=None, ignore_index=-100, reduce=None, reduction='mean')\n",
        "print(torch_out)"
      ],
      "metadata": {
        "colab": {
          "base_uri": "https://localhost:8080/"
        },
        "outputId": "8b606887-515b-4bca-df67-663285d56691",
        "id": "N_ohFO3OhIbN"
      },
      "execution_count": null,
      "outputs": [
        {
          "output_type": "stream",
          "name": "stdout",
          "text": [
            "tensor(1.3776)\n"
          ]
        }
      ]
    },
    {
      "cell_type": "markdown",
      "source": [
        "## My Cross_entropy"
      ],
      "metadata": {
        "id": "JK-QChSmhIbN"
      }
    },
    {
      "cell_type": "code",
      "source": [
        "def softmax(X):\n",
        "    result = torch.zeros(X.shape)\n",
        "    for i in range(len(X)):\n",
        "      e = torch.exp(X[i])\n",
        "      s = torch.sum(e, dim = 0)\n",
        "      soft = e / s\n",
        "      result[i] = -torch.log(soft)\n",
        "    return result\n",
        "    \n",
        "def loss(X, y):\n",
        "    l = torch.zeros([len(X)])\n",
        "    for i in range(len(X)):\n",
        "      r = 0\n",
        "      for j in range(y.shape[1]):\n",
        "        for k in range(y.shape[2]):\n",
        "          index = y[i, j, k]\n",
        "          num = X[i, index, j ,k]\n",
        "          r += num\n",
        "        l[i] = r / y.shape[1] / y.shape[2]\n",
        "    return l\n",
        "\n",
        "def my_cross_entropy(X, y):\n",
        "    log_softmax = softmax(X)\n",
        "    l = loss(log_softmax, y)\n",
        "    return l.mean()\n",
        "\n",
        "my_out = my_cross_entropy(X, y.numpy())\n",
        "print(my_out)"
      ],
      "metadata": {
        "colab": {
          "base_uri": "https://localhost:8080/"
        },
        "outputId": "9e06a0ba-dfc7-4b07-c819-c0ce93e71792",
        "id": "dK1BHrAphIbN"
      },
      "execution_count": null,
      "outputs": [
        {
          "output_type": "stream",
          "name": "stdout",
          "text": [
            "tensor(1.3776)\n"
          ]
        }
      ]
    },
    {
      "cell_type": "markdown",
      "source": [
        "## Comparision"
      ],
      "metadata": {
        "id": "VnUH0cuWhIbN"
      }
    },
    {
      "cell_type": "code",
      "source": [
        "print(torch.all(torch.abs(my_out - torch_out) <= 1e-6))"
      ],
      "metadata": {
        "colab": {
          "base_uri": "https://localhost:8080/"
        },
        "outputId": "a57bed5e-d306-47c7-ec1f-14cfc6a5ffe4",
        "id": "J4_UqwuwhIbN"
      },
      "execution_count": null,
      "outputs": [
        {
          "output_type": "stream",
          "name": "stdout",
          "text": [
            "tensor(True)\n"
          ]
        }
      ]
    },
    {
      "cell_type": "markdown",
      "source": [
        "# mse_loss"
      ],
      "metadata": {
        "id": "0_6mG_tAjvV7"
      }
    },
    {
      "cell_type": "markdown",
      "source": [
        "## Official mse_loss"
      ],
      "metadata": {
        "id": "vG8eL2BUjvV_"
      }
    },
    {
      "cell_type": "code",
      "source": [
        "y = torch.randn(1, 3, 32, 32)\n",
        "\n",
        "torch_out = torch.nn.functional.mse_loss(X, y, size_average=None, reduce=None, reduction='mean')\n",
        "print(torch_out)"
      ],
      "metadata": {
        "colab": {
          "base_uri": "https://localhost:8080/"
        },
        "outputId": "666b24fd-7a2a-4e2d-93b1-0dd9556deb64",
        "id": "InjRCiaKjvWA"
      },
      "execution_count": null,
      "outputs": [
        {
          "output_type": "stream",
          "name": "stdout",
          "text": [
            "tensor(1.9528)\n"
          ]
        }
      ]
    },
    {
      "cell_type": "markdown",
      "source": [
        "## My mse_loss"
      ],
      "metadata": {
        "id": "59rpYKIRjvWA"
      }
    },
    {
      "cell_type": "code",
      "source": [
        "def my_mse_loss(X, y):\n",
        "    sqr = (X - y) ** 2\n",
        "    return sqr.mean()\n",
        "\n",
        "my_out = my_mse_loss(X, y)\n",
        "print(my_out)"
      ],
      "metadata": {
        "colab": {
          "base_uri": "https://localhost:8080/"
        },
        "outputId": "89d1f216-12bd-40b0-84e0-97fc57576fae",
        "id": "NUUxd1PejvWA"
      },
      "execution_count": null,
      "outputs": [
        {
          "output_type": "stream",
          "name": "stdout",
          "text": [
            "tensor(1.9528)\n"
          ]
        }
      ]
    },
    {
      "cell_type": "markdown",
      "source": [
        "## Comparision"
      ],
      "metadata": {
        "id": "tt6spV5ejvWA"
      }
    },
    {
      "cell_type": "code",
      "source": [
        "print(torch.all(torch.abs(my_out - torch_out) <= 1e-6))"
      ],
      "metadata": {
        "colab": {
          "base_uri": "https://localhost:8080/"
        },
        "outputId": "2a23be03-f2b8-4537-b874-7888c0f414c8",
        "id": "jhxzb_mhjvWA"
      },
      "execution_count": null,
      "outputs": [
        {
          "output_type": "stream",
          "name": "stdout",
          "text": [
            "tensor(True)\n"
          ]
        }
      ]
    }
  ]
}